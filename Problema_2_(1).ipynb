{
  "cells": [
    {
      "cell_type": "markdown",
      "metadata": {
        "id": "ovpZyIhNIgoq"
      },
      "source": [
        "# Problema 2\n"
      ]
    },
    {
      "cell_type": "markdown",
      "metadata": {
        "id": "BwpJ5IffzRG6"
      },
      "source": [
        "En el siguiente problema, se presenta un conjunto de datos correspondientes a escritos de Shakespear. El objetivo del problema es crear un modelo capaz de generar texto con dialecto de época y escritura en verso y prosa.\n"
      ]
    },
    {
      "cell_type": "markdown",
      "metadata": {
        "id": "HcygKkEVZBaa"
      },
      "source": [
        "Dataset:\n",
        "https://storage.googleapis.com/download.tensorflow.org/data/shakespeare.txt\n",
        "\n",
        "El dataset proporcionado incluye 40000 líneas de distintos escritos de Shakespear. Sólo utilizaremos el dataset como un cuerpo de texto para entrenar un modelo recurrente de generación de texto.\n"
      ]
    },
    {
      "cell_type": "markdown",
      "metadata": {
        "id": "W3yVNahQYHcw"
      },
      "source": [
        "## Preparación del entorno.\n",
        "\n",
        "Si no estamos parados en el repo, clonar y cd al repo. Esto nos permite usar el mismo notebook tanto local como en Google Colab."
      ]
    },
    {
      "cell_type": "markdown",
      "metadata": {
        "id": "Aj7e9dKpYHc1"
      },
      "source": [
        "Importar librerías"
      ]
    },
    {
      "cell_type": "code",
      "source": [
        "!pip install --q tensorflow==2.15.1"
      ],
      "metadata": {
        "id": "LEtNw43VhCv9"
      },
      "execution_count": null,
      "outputs": []
    },
    {
      "cell_type": "code",
      "execution_count": null,
      "metadata": {
        "execution": {
          "iopub.execute_input": "2023-11-16T12:28:51.777470Z",
          "iopub.status.busy": "2023-11-16T12:28:51.777245Z",
          "iopub.status.idle": "2023-11-16T12:28:54.138340Z",
          "shell.execute_reply": "2023-11-16T12:28:54.137637Z"
        },
        "id": "yG_n40gFzf9s"
      },
      "outputs": [],
      "source": [
        "import tensorflow as tf\n",
        "import numpy as np\n",
        "import os\n",
        "import time"
      ]
    },
    {
      "cell_type": "markdown",
      "metadata": {
        "id": "tyX4kancYHc3"
      },
      "source": [
        "Establecer GPU por defecto en caso de estar disponible."
      ]
    },
    {
      "cell_type": "code",
      "execution_count": null,
      "metadata": {
        "id": "w3rdOyw6YHc3",
        "colab": {
          "base_uri": "https://localhost:8080/"
        },
        "outputId": "4d484aac-c078-4788-d4d5-45ad41c702fd"
      },
      "outputs": [
        {
          "output_type": "stream",
          "name": "stdout",
          "text": [
            "1 Physical GPUs, 1 Logical GPUs\n"
          ]
        }
      ],
      "source": [
        "# Configurar para que TensorFlow utilice la GPU por defecto\n",
        "gpus = tf.config.experimental.list_physical_devices('GPU')\n",
        "if gpus:\n",
        "    try:\n",
        "        # Configurar para que TensorFlow asigne memoria dinámicamente\n",
        "        for gpu in gpus:\n",
        "            tf.config.experimental.set_memory_growth(gpu, True)\n",
        "        # Especificar la GPU por defecto\n",
        "        logical_gpus = tf.config.experimental.list_logical_devices('GPU')\n",
        "        print(len(gpus), \"Physical GPUs,\", len(logical_gpus), \"Logical GPUs\")\n",
        "    except RuntimeError as e:\n",
        "        # Manejar error\n",
        "        print(e)"
      ]
    },
    {
      "cell_type": "markdown",
      "metadata": {
        "id": "UHjdCjDuSvX_"
      },
      "source": [
        "## Leer la data\n",
        "\n",
        "Primero, miremos el texto:"
      ]
    },
    {
      "cell_type": "code",
      "source": [
        "\"\"\"\n",
        "\n",
        "https://storage.googleapis.com/download.tensorflow.org/data/shakespeare.txt\n",
        "\n",
        "El dataset proporcionado incluye 40000 líneas de distintos escritos de Shakespear.\n",
        "\n",
        "Sólo utilizaremos el dataset como un cuerpo de texto para entrenar un modelo recurrente de generación de texto.\n",
        "\n",
        "\"\"\"\n",
        "\n",
        "import requests\n",
        "\n",
        "# URL del archivo de texto de Shakespeare\n",
        "url = \"https://storage.googleapis.com/download.tensorflow.org/data/shakespeare.txt\"\n",
        "\n",
        "# Realizar la solicitud GET para obtener el contenido del archivo\n",
        "response = requests.get(url)\n",
        "\n",
        "# Verifica que la solicitud fue exitosa\n",
        "if response.status_code == 200:\n",
        "    # Guarda el contenido en un archivo local\n",
        "    with open(\"shakespeare.txt\", \"wb\") as file:\n",
        "        file.write(response.content)\n",
        "    print(\"Archivo descargado exitosamente.\")\n",
        "else:\n",
        "    print(\"Error al descargar el archivo. Código de estado:\", response.status_code)\n"
      ],
      "metadata": {
        "colab": {
          "base_uri": "https://localhost:8080/"
        },
        "id": "ios4bq7WbO0h",
        "outputId": "aa2cd564-a136-4e6c-9b12-81899f69eeca"
      },
      "execution_count": null,
      "outputs": [
        {
          "output_type": "stream",
          "name": "stdout",
          "text": [
            "Archivo descargado exitosamente.\n"
          ]
        }
      ]
    },
    {
      "cell_type": "code",
      "source": [
        "# Read, then decode for py2 compat.\n",
        "text = open(\"/content/shakespeare.txt\", 'rb').read().decode(encoding='utf-8')\n",
        "# length of text is the number of characters in it\n",
        "print(f'Length of text: {len(text)} characters')"
      ],
      "metadata": {
        "colab": {
          "base_uri": "https://localhost:8080/"
        },
        "id": "Y6MTh1P_fDyP",
        "outputId": "7faa3b3e-2c8a-4093-cc6d-9a687983442e"
      },
      "execution_count": null,
      "outputs": [
        {
          "output_type": "stream",
          "name": "stdout",
          "text": [
            "Length of text: 1115394 characters\n"
          ]
        }
      ]
    },
    {
      "cell_type": "code",
      "source": [
        "# The unique characters in the file\n",
        "vocab = sorted(set(text))\n",
        "print(f'{len(vocab)} unique characters')"
      ],
      "metadata": {
        "colab": {
          "base_uri": "https://localhost:8080/"
        },
        "id": "OZwDVynWfFOg",
        "outputId": "9fadbaf2-dd2a-49f4-c567-595b5da00037"
      },
      "execution_count": null,
      "outputs": [
        {
          "output_type": "stream",
          "name": "stdout",
          "text": [
            "65 unique characters\n"
          ]
        }
      ]
    },
    {
      "cell_type": "markdown",
      "source": [
        "# Modelo caracter a caracter"
      ],
      "metadata": {
        "id": "B4_y_z0v8iZv"
      }
    },
    {
      "cell_type": "markdown",
      "metadata": {
        "id": "rNnrKn_lL-IJ"
      },
      "source": [
        "## Preprocesamiento"
      ]
    },
    {
      "cell_type": "markdown",
      "metadata": {
        "id": "LFjSVAlWzf-N"
      },
      "source": [
        "### Vectorizacion del texto\n",
        "\n",
        "Previo al entrenamiento, necesitamos convertir el texto a una representacion numerica.\n",
        "\n",
        "La capa `tf.keras.layers.StringLookup` nos permite convertir cada caracter en un ID numerico. Solo necesita que el texto este separado primero en tokens."
      ]
    },
    {
      "cell_type": "code",
      "execution_count": null,
      "metadata": {
        "execution": {
          "iopub.execute_input": "2023-11-16T12:28:54.305984Z",
          "iopub.status.busy": "2023-11-16T12:28:54.305759Z",
          "iopub.status.idle": "2023-11-16T12:28:56.476391Z",
          "shell.execute_reply": "2023-11-16T12:28:56.475487Z"
        },
        "id": "a86OoYtO01go",
        "colab": {
          "base_uri": "https://localhost:8080/"
        },
        "outputId": "dd834832-928e-4a76-a607-05281f37fd48"
      },
      "outputs": [
        {
          "output_type": "execute_result",
          "data": {
            "text/plain": [
              "<tf.RaggedTensor [[b'\\n'],\n",
              " [b' '],\n",
              " [b'!'],\n",
              " [b'$'],\n",
              " [b'&'],\n",
              " [b\"'\"],\n",
              " [b','],\n",
              " [b'-'],\n",
              " [b'.'],\n",
              " [b'3'],\n",
              " [b':'],\n",
              " [b';'],\n",
              " [b'?'],\n",
              " [b'A'],\n",
              " [b'B'],\n",
              " [b'C'],\n",
              " [b'D'],\n",
              " [b'E'],\n",
              " [b'F'],\n",
              " [b'G'],\n",
              " [b'H'],\n",
              " [b'I'],\n",
              " [b'J'],\n",
              " [b'K'],\n",
              " [b'L'],\n",
              " [b'M'],\n",
              " [b'N'],\n",
              " [b'O'],\n",
              " [b'P'],\n",
              " [b'Q'],\n",
              " [b'R'],\n",
              " [b'S'],\n",
              " [b'T'],\n",
              " [b'U'],\n",
              " [b'V'],\n",
              " [b'W'],\n",
              " [b'X'],\n",
              " [b'Y'],\n",
              " [b'Z'],\n",
              " [b'a'],\n",
              " [b'b'],\n",
              " [b'c'],\n",
              " [b'd'],\n",
              " [b'e'],\n",
              " [b'f'],\n",
              " [b'g'],\n",
              " [b'h'],\n",
              " [b'i'],\n",
              " [b'j'],\n",
              " [b'k'],\n",
              " [b'l'],\n",
              " [b'm'],\n",
              " [b'n'],\n",
              " [b'o'],\n",
              " [b'p'],\n",
              " [b'q'],\n",
              " [b'r'],\n",
              " [b's'],\n",
              " [b't'],\n",
              " [b'u'],\n",
              " [b'v'],\n",
              " [b'w'],\n",
              " [b'x'],\n",
              " [b'y'],\n",
              " [b'z']]>"
            ]
          },
          "metadata": {},
          "execution_count": 8
        }
      ],
      "source": [
        "chars = tf.strings.unicode_split(vocab, input_encoding='UTF-8')\n",
        "chars"
      ]
    },
    {
      "cell_type": "markdown",
      "metadata": {
        "id": "1s4f1q3iqY8f"
      },
      "source": [
        "Ahora creamos la capa `tf.keras.layers.StringLookup`:"
      ]
    },
    {
      "cell_type": "code",
      "execution_count": null,
      "metadata": {
        "execution": {
          "iopub.execute_input": "2023-11-16T12:28:56.479758Z",
          "iopub.status.busy": "2023-11-16T12:28:56.479480Z",
          "iopub.status.idle": "2023-11-16T12:28:56.500032Z",
          "shell.execute_reply": "2023-11-16T12:28:56.499180Z"
        },
        "id": "6GMlCe3qzaL9"
      },
      "outputs": [],
      "source": [
        "ids_from_chars = tf.keras.layers.StringLookup(\n",
        "    vocabulary=list(vocab), mask_token=None)"
      ]
    },
    {
      "cell_type": "markdown",
      "metadata": {
        "id": "ZmX_jbgQqfOi"
      },
      "source": [
        "Esto nos convierte de tokens a IDs de caracteres:"
      ]
    },
    {
      "cell_type": "code",
      "execution_count": null,
      "metadata": {
        "execution": {
          "iopub.execute_input": "2023-11-16T12:28:56.503579Z",
          "iopub.status.busy": "2023-11-16T12:28:56.503326Z",
          "iopub.status.idle": "2023-11-16T12:28:56.512120Z",
          "shell.execute_reply": "2023-11-16T12:28:56.511277Z"
        },
        "id": "WLv5Q_2TC2pc",
        "colab": {
          "base_uri": "https://localhost:8080/"
        },
        "outputId": "55163529-b74b-49e4-ca59-5a44ac29f9d4"
      },
      "outputs": [
        {
          "output_type": "execute_result",
          "data": {
            "text/plain": [
              "<tf.RaggedTensor [[1],\n",
              " [2],\n",
              " [3],\n",
              " [4],\n",
              " [5],\n",
              " [6],\n",
              " [7],\n",
              " [8],\n",
              " [9],\n",
              " [10],\n",
              " [11],\n",
              " [12],\n",
              " [13],\n",
              " [14],\n",
              " [15],\n",
              " [16],\n",
              " [17],\n",
              " [18],\n",
              " [19],\n",
              " [20],\n",
              " [21],\n",
              " [22],\n",
              " [23],\n",
              " [24],\n",
              " [25],\n",
              " [26],\n",
              " [27],\n",
              " [28],\n",
              " [29],\n",
              " [30],\n",
              " [31],\n",
              " [32],\n",
              " [33],\n",
              " [34],\n",
              " [35],\n",
              " [36],\n",
              " [37],\n",
              " [38],\n",
              " [39],\n",
              " [40],\n",
              " [41],\n",
              " [42],\n",
              " [43],\n",
              " [44],\n",
              " [45],\n",
              " [46],\n",
              " [47],\n",
              " [48],\n",
              " [49],\n",
              " [50],\n",
              " [51],\n",
              " [52],\n",
              " [53],\n",
              " [54],\n",
              " [55],\n",
              " [56],\n",
              " [57],\n",
              " [58],\n",
              " [59],\n",
              " [60],\n",
              " [61],\n",
              " [62],\n",
              " [63],\n",
              " [64],\n",
              " [65]]>"
            ]
          },
          "metadata": {},
          "execution_count": 10
        }
      ],
      "source": [
        "ids = ids_from_chars(chars)\n",
        "ids"
      ]
    },
    {
      "cell_type": "markdown",
      "metadata": {
        "id": "tZfqhkYCymwX"
      },
      "source": [
        "Importante invertir esta representacion y recuperar texto legible desde estos IDs. Para esto podemos usar `tf.keras.layers.StringLookup(..., invert=True)`."
      ]
    },
    {
      "cell_type": "markdown",
      "metadata": {
        "id": "uenivzwqsDhp"
      },
      "source": [
        "Nota: Aquí, en lugar de pasar el vocabulario original generado con `sorted(set(text))`, usamos el método `get_vocabulary()` de la capa `tf.keras.layers.StringLookup` para que los tokens `[UNK]` se configuren de la misma manera."
      ]
    },
    {
      "cell_type": "code",
      "execution_count": null,
      "metadata": {
        "execution": {
          "iopub.execute_input": "2023-11-16T12:28:56.515523Z",
          "iopub.status.busy": "2023-11-16T12:28:56.515247Z",
          "iopub.status.idle": "2023-11-16T12:28:56.527399Z",
          "shell.execute_reply": "2023-11-16T12:28:56.526413Z"
        },
        "id": "Wd2m3mqkDjRj"
      },
      "outputs": [],
      "source": [
        "chars_from_ids = tf.keras.layers.StringLookup(\n",
        "    vocabulary=ids_from_chars.get_vocabulary(), invert=True, mask_token=None)"
      ]
    },
    {
      "cell_type": "markdown",
      "metadata": {
        "id": "pqTDDxS-s-H8"
      },
      "source": [
        "Esta capa recupera los caracteres desde los vectores de IDs y los retorna como un `tf.RaggedTensor` de caracteres:"
      ]
    },
    {
      "cell_type": "code",
      "execution_count": null,
      "metadata": {
        "execution": {
          "iopub.execute_input": "2023-11-16T12:28:56.530933Z",
          "iopub.status.busy": "2023-11-16T12:28:56.530668Z",
          "iopub.status.idle": "2023-11-16T12:28:56.537090Z",
          "shell.execute_reply": "2023-11-16T12:28:56.536263Z"
        },
        "id": "c2GCh0ySD44s",
        "colab": {
          "base_uri": "https://localhost:8080/"
        },
        "outputId": "f2e4a830-810c-4f3d-a6b1-7b794ef5b672"
      },
      "outputs": [
        {
          "output_type": "execute_result",
          "data": {
            "text/plain": [
              "<tf.RaggedTensor [[b'\\n'],\n",
              " [b' '],\n",
              " [b'!'],\n",
              " [b'$'],\n",
              " [b'&'],\n",
              " [b\"'\"],\n",
              " [b','],\n",
              " [b'-'],\n",
              " [b'.'],\n",
              " [b'3'],\n",
              " [b':'],\n",
              " [b';'],\n",
              " [b'?'],\n",
              " [b'A'],\n",
              " [b'B'],\n",
              " [b'C'],\n",
              " [b'D'],\n",
              " [b'E'],\n",
              " [b'F'],\n",
              " [b'G'],\n",
              " [b'H'],\n",
              " [b'I'],\n",
              " [b'J'],\n",
              " [b'K'],\n",
              " [b'L'],\n",
              " [b'M'],\n",
              " [b'N'],\n",
              " [b'O'],\n",
              " [b'P'],\n",
              " [b'Q'],\n",
              " [b'R'],\n",
              " [b'S'],\n",
              " [b'T'],\n",
              " [b'U'],\n",
              " [b'V'],\n",
              " [b'W'],\n",
              " [b'X'],\n",
              " [b'Y'],\n",
              " [b'Z'],\n",
              " [b'a'],\n",
              " [b'b'],\n",
              " [b'c'],\n",
              " [b'd'],\n",
              " [b'e'],\n",
              " [b'f'],\n",
              " [b'g'],\n",
              " [b'h'],\n",
              " [b'i'],\n",
              " [b'j'],\n",
              " [b'k'],\n",
              " [b'l'],\n",
              " [b'm'],\n",
              " [b'n'],\n",
              " [b'o'],\n",
              " [b'p'],\n",
              " [b'q'],\n",
              " [b'r'],\n",
              " [b's'],\n",
              " [b't'],\n",
              " [b'u'],\n",
              " [b'v'],\n",
              " [b'w'],\n",
              " [b'x'],\n",
              " [b'y'],\n",
              " [b'z']]>"
            ]
          },
          "metadata": {},
          "execution_count": 12
        }
      ],
      "source": [
        "chars = chars_from_ids(ids)\n",
        "chars"
      ]
    },
    {
      "cell_type": "markdown",
      "metadata": {
        "id": "-FeW5gqutT3o"
      },
      "source": [
        "Finalmente usando `tf.strings.reduce_join` se pueden volver a juntar los caracteres en texto."
      ]
    },
    {
      "cell_type": "code",
      "execution_count": null,
      "metadata": {
        "execution": {
          "iopub.execute_input": "2023-11-16T12:28:56.540726Z",
          "iopub.status.busy": "2023-11-16T12:28:56.540204Z",
          "iopub.status.idle": "2023-11-16T12:28:56.612264Z",
          "shell.execute_reply": "2023-11-16T12:28:56.611386Z"
        },
        "id": "zxYI-PeltqKP",
        "colab": {
          "base_uri": "https://localhost:8080/"
        },
        "outputId": "d6174257-0cdd-48a5-875f-881a635f3a8b"
      },
      "outputs": [
        {
          "output_type": "execute_result",
          "data": {
            "text/plain": [
              "array([b'\\n', b' ', b'!', b'$', b'&', b\"'\", b',', b'-', b'.', b'3', b':',\n",
              "       b';', b'?', b'A', b'B', b'C', b'D', b'E', b'F', b'G', b'H', b'I',\n",
              "       b'J', b'K', b'L', b'M', b'N', b'O', b'P', b'Q', b'R', b'S', b'T',\n",
              "       b'U', b'V', b'W', b'X', b'Y', b'Z', b'a', b'b', b'c', b'd', b'e',\n",
              "       b'f', b'g', b'h', b'i', b'j', b'k', b'l', b'm', b'n', b'o', b'p',\n",
              "       b'q', b'r', b's', b't', b'u', b'v', b'w', b'x', b'y', b'z'],\n",
              "      dtype=object)"
            ]
          },
          "metadata": {},
          "execution_count": 13
        }
      ],
      "source": [
        "tf.strings.reduce_join(chars, axis=-1).numpy()"
      ]
    },
    {
      "cell_type": "code",
      "execution_count": null,
      "metadata": {
        "execution": {
          "iopub.execute_input": "2023-11-16T12:28:56.615892Z",
          "iopub.status.busy": "2023-11-16T12:28:56.615233Z",
          "iopub.status.idle": "2023-11-16T12:28:56.619392Z",
          "shell.execute_reply": "2023-11-16T12:28:56.618581Z"
        },
        "id": "w5apvBDn9Ind"
      },
      "outputs": [],
      "source": [
        "def text_from_ids(ids):\n",
        "  return tf.strings.reduce_join(chars_from_ids(ids), axis=-1)"
      ]
    },
    {
      "cell_type": "markdown",
      "source": [
        "### Visualización de los datos"
      ],
      "metadata": {
        "id": "OsWp3Kt55EEN"
      }
    },
    {
      "cell_type": "code",
      "source": [
        "    # Limpiar el texto (eliminar caracteres no alfabéticos)\n",
        "    text = re.sub(r'[^a-zA-Z\\s]', '', text.lower())\n",
        "\n",
        "    # Crear la nube de palabras\n",
        "    wordcloud = WordCloud(width=800, height=400, background_color='white').generate(text)\n",
        "\n",
        "    # Mostrar la nube de palabras\n",
        "    plt.figure(figsize=(10, 6))\n",
        "    plt.imshow(wordcloud, interpolation='bilinear')\n",
        "    plt.axis('off')\n",
        "    plt.show()"
      ],
      "metadata": {
        "colab": {
          "base_uri": "https://localhost:8080/",
          "height": 424
        },
        "id": "x55MeciQ5IY9",
        "outputId": "f0c6a13e-17e9-4741-d1c4-756ab761689c"
      },
      "execution_count": null,
      "outputs": [
        {
          "output_type": "display_data",
          "data": {
            "text/plain": [
              "<Figure size 1000x600 with 1 Axes>"
            ],
            "image/png": "[encoded data removed]"
          },
          "metadata": {}
        }
      ]
    },
    {
      "cell_type": "markdown",
      "metadata": {
        "id": "bbmsf23Bymwe"
      },
      "source": [
        "### Prediccion"
      ]
    },
    {
      "cell_type": "markdown",
      "metadata": {
        "id": "wssHQ1oGymwe"
      },
      "source": [
        "Dado un caracter, o una secuencia de caracteres, ¿cuál es el siguiente caracter más probable? Esta es la tarea para la que estamos entrenando al modelo. La entrada al modelo será una secuencia de caracteres y entrenamos el modelo para predecir la salida: el siguiente carácter en cada paso de tiempo.\n",
        "\n",
        "Dado que los RNN mantienen un estado interno que depende de los elementos vistos anteriormente, a partir de todos los caracteres calculados hasta este momento, ¿cuál es el siguiente carácter?"
      ]
    },
    {
      "cell_type": "markdown",
      "metadata": {
        "id": "hgsVvVxnymwf"
      },
      "source": [
        "### Crear los ejemplos de entrenamiento\n",
        "\n",
        "Dividimos el texto en secuencias de ejemplo. Cada secuencia de entrada contendrá `seq_length` caracteres del texto.\n",
        "\n",
        "Para cada secuencia de entrada, los targets correspondientes contienen la misma longitud de texto, excepto que se desplazan un carácter hacia la derecha.\n",
        "\n",
        "Así que divida el texto en fragmentos de `seq_length+1`. Por ejemplo, digamos que `seq_length` es 3 y nuestro texto es \"Hola\". La secuencia de entrada sería \"Hol\" y la secuencia target \"ola\".\n",
        "\n",
        "Para hacer esto, usamos la función `tf.data.Dataset.from_tensor_slices` para convertir el vector de texto en una secuencia de índices de caracteres."
      ]
    },
    {
      "cell_type": "code",
      "execution_count": null,
      "metadata": {
        "execution": {
          "iopub.execute_input": "2023-11-16T12:28:56.622927Z",
          "iopub.status.busy": "2023-11-16T12:28:56.622442Z",
          "iopub.status.idle": "2023-11-16T12:28:57.016742Z",
          "shell.execute_reply": "2023-11-16T12:28:57.015824Z"
        },
        "id": "UopbsKi88tm5",
        "colab": {
          "base_uri": "https://localhost:8080/"
        },
        "outputId": "f1e51426-2644-4ee0-8e24-732574ee20a9"
      },
      "outputs": [
        {
          "output_type": "execute_result",
          "data": {
            "text/plain": [
              "<tf.Tensor: shape=(1115394,), dtype=int64, numpy=array([19, 48, 57, ..., 46,  9,  1])>"
            ]
          },
          "metadata": {},
          "execution_count": 15
        }
      ],
      "source": [
        "all_ids = ids_from_chars(tf.strings.unicode_split(text, 'UTF-8'))\n",
        "all_ids"
      ]
    },
    {
      "cell_type": "code",
      "execution_count": null,
      "metadata": {
        "execution": {
          "iopub.execute_input": "2023-11-16T12:28:57.020447Z",
          "iopub.status.busy": "2023-11-16T12:28:57.019715Z",
          "iopub.status.idle": "2023-11-16T12:28:57.025333Z",
          "shell.execute_reply": "2023-11-16T12:28:57.024427Z"
        },
        "id": "qmxrYDCTy-eL"
      },
      "outputs": [],
      "source": [
        "ids_dataset = tf.data.Dataset.from_tensor_slices(all_ids)"
      ]
    },
    {
      "cell_type": "code",
      "execution_count": null,
      "metadata": {
        "execution": {
          "iopub.execute_input": "2023-11-16T12:28:57.028784Z",
          "iopub.status.busy": "2023-11-16T12:28:57.028159Z",
          "iopub.status.idle": "2023-11-16T12:28:57.054262Z",
          "shell.execute_reply": "2023-11-16T12:28:57.053600Z"
        },
        "id": "cjH5v45-yqqH",
        "colab": {
          "base_uri": "https://localhost:8080/"
        },
        "outputId": "5fadef0b-e0b8-4cf5-ed4e-a1e6b4b6d0b4"
      },
      "outputs": [
        {
          "output_type": "stream",
          "name": "stdout",
          "text": [
            "F\n",
            "i\n",
            "r\n",
            "s\n",
            "t\n",
            " \n",
            "C\n",
            "i\n",
            "t\n",
            "i\n"
          ]
        }
      ],
      "source": [
        "for ids in ids_dataset.take(10):\n",
        "    print(chars_from_ids(ids).numpy().decode('utf-8'))"
      ]
    },
    {
      "cell_type": "code",
      "execution_count": null,
      "metadata": {
        "execution": {
          "iopub.execute_input": "2023-11-16T12:28:57.057537Z",
          "iopub.status.busy": "2023-11-16T12:28:57.057035Z",
          "iopub.status.idle": "2023-11-16T12:28:57.060268Z",
          "shell.execute_reply": "2023-11-16T12:28:57.059485Z"
        },
        "id": "C-G2oaTxy6km"
      },
      "outputs": [],
      "source": [
        "seq_length = 100"
      ]
    },
    {
      "cell_type": "markdown",
      "metadata": {
        "id": "-ZSYAcQV8OGP"
      },
      "source": [
        "El método `batch` nos permite convertir fácilmente estos caracteres individuales en secuencias del tamaño deseado."
      ]
    },
    {
      "cell_type": "code",
      "execution_count": null,
      "metadata": {
        "execution": {
          "iopub.execute_input": "2023-11-16T12:28:57.063362Z",
          "iopub.status.busy": "2023-11-16T12:28:57.063138Z",
          "iopub.status.idle": "2023-11-16T12:28:57.079344Z",
          "shell.execute_reply": "2023-11-16T12:28:57.078694Z"
        },
        "id": "BpdjRO2CzOfZ",
        "colab": {
          "base_uri": "https://localhost:8080/"
        },
        "outputId": "6baa022b-d011-4e96-adb7-d8bbee47c5fb"
      },
      "outputs": [
        {
          "output_type": "stream",
          "name": "stdout",
          "text": [
            "tf.Tensor(\n",
            "[b'F' b'i' b'r' b's' b't' b' ' b'C' b'i' b't' b'i' b'z' b'e' b'n' b':'\n",
            " b'\\n' b'B' b'e' b'f' b'o' b'r' b'e' b' ' b'w' b'e' b' ' b'p' b'r' b'o'\n",
            " b'c' b'e' b'e' b'd' b' ' b'a' b'n' b'y' b' ' b'f' b'u' b'r' b't' b'h'\n",
            " b'e' b'r' b',' b' ' b'h' b'e' b'a' b'r' b' ' b'm' b'e' b' ' b's' b'p'\n",
            " b'e' b'a' b'k' b'.' b'\\n' b'\\n' b'A' b'l' b'l' b':' b'\\n' b'S' b'p' b'e'\n",
            " b'a' b'k' b',' b' ' b's' b'p' b'e' b'a' b'k' b'.' b'\\n' b'\\n' b'F' b'i'\n",
            " b'r' b's' b't' b' ' b'C' b'i' b't' b'i' b'z' b'e' b'n' b':' b'\\n' b'Y'\n",
            " b'o' b'u' b' '], shape=(101,), dtype=string)\n"
          ]
        }
      ],
      "source": [
        "sequences = ids_dataset.batch(seq_length+1, drop_remainder=True)\n",
        "\n",
        "for seq in sequences.take(1):\n",
        "  print(chars_from_ids(seq))"
      ]
    },
    {
      "cell_type": "markdown",
      "metadata": {
        "id": "5PHW902-4oZt"
      },
      "source": [
        "Es mas facil ver lo que esta haciendo si unimos de vuelta los tokens en texto:"
      ]
    },
    {
      "cell_type": "code",
      "execution_count": null,
      "metadata": {
        "execution": {
          "iopub.execute_input": "2023-11-16T12:28:57.082545Z",
          "iopub.status.busy": "2023-11-16T12:28:57.082097Z",
          "iopub.status.idle": "2023-11-16T12:28:57.097362Z",
          "shell.execute_reply": "2023-11-16T12:28:57.096684Z"
        },
        "id": "QO32cMWu4a06",
        "colab": {
          "base_uri": "https://localhost:8080/"
        },
        "outputId": "c9efce23-bc44-4299-9b1b-55a4e39e3c35"
      },
      "outputs": [
        {
          "output_type": "stream",
          "name": "stdout",
          "text": [
            "b'First Citizen:\\nBefore we proceed any further, hear me speak.\\n\\nAll:\\nSpeak, speak.\\n\\nFirst Citizen:\\nYou '\n",
            "b'are all resolved rather to die than to famish?\\n\\nAll:\\nResolved. resolved.\\n\\nFirst Citizen:\\nFirst, you k'\n",
            "b\"now Caius Marcius is chief enemy to the people.\\n\\nAll:\\nWe know't, we know't.\\n\\nFirst Citizen:\\nLet us ki\"\n",
            "b\"ll him, and we'll have corn at our own price.\\nIs't a verdict?\\n\\nAll:\\nNo more talking on't; let it be d\"\n",
            "b'one: away, away!\\n\\nSecond Citizen:\\nOne word, good citizens.\\n\\nFirst Citizen:\\nWe are accounted poor citi'\n"
          ]
        }
      ],
      "source": [
        "for seq in sequences.take(5):\n",
        "  print(text_from_ids(seq).numpy())"
      ]
    },
    {
      "cell_type": "markdown",
      "metadata": {
        "id": "UbLcIPBj_mWZ"
      },
      "source": [
        "Para el entrenamiento, necesitaremos un conjunto de datos de pares `(input, label)`. Donde `input` y\n",
        "`label` son secuencias. En cada timestep, la entrada es el carácter actual y la etiqueta es el siguiente carácter.\n",
        "\n",
        "Aquí hay una función que toma una secuencia como entrada, la duplica y la desplaza para alinear la entrada y la etiqueta para cada timestep:"
      ]
    },
    {
      "cell_type": "code",
      "execution_count": null,
      "metadata": {
        "execution": {
          "iopub.execute_input": "2023-11-16T12:28:57.100570Z",
          "iopub.status.busy": "2023-11-16T12:28:57.099992Z",
          "iopub.status.idle": "2023-11-16T12:28:57.103529Z",
          "shell.execute_reply": "2023-11-16T12:28:57.102915Z"
        },
        "id": "9NGu-FkO_kYU"
      },
      "outputs": [],
      "source": [
        "def split_input_target(sequence):\n",
        "    input_text = sequence[:-1]\n",
        "    target_text = sequence[1:]\n",
        "    return input_text, target_text"
      ]
    },
    {
      "cell_type": "code",
      "execution_count": null,
      "metadata": {
        "execution": {
          "iopub.execute_input": "2023-11-16T12:28:57.106445Z",
          "iopub.status.busy": "2023-11-16T12:28:57.106212Z",
          "iopub.status.idle": "2023-11-16T12:28:57.110783Z",
          "shell.execute_reply": "2023-11-16T12:28:57.110161Z"
        },
        "id": "WxbDTJTw5u_P",
        "colab": {
          "base_uri": "https://localhost:8080/"
        },
        "outputId": "6ce21dbc-a86b-4c42-cd45-091e1ed418d0"
      },
      "outputs": [
        {
          "output_type": "execute_result",
          "data": {
            "text/plain": [
              "(['T', 'e', 'n', 's', 'o', 'r', 'f', 'l', 'o'],\n",
              " ['e', 'n', 's', 'o', 'r', 'f', 'l', 'o', 'w'])"
            ]
          },
          "metadata": {},
          "execution_count": 22
        }
      ],
      "source": [
        "split_input_target(list(\"Tensorflow\"))"
      ]
    },
    {
      "cell_type": "code",
      "execution_count": null,
      "metadata": {
        "execution": {
          "iopub.execute_input": "2023-11-16T12:28:57.113994Z",
          "iopub.status.busy": "2023-11-16T12:28:57.113409Z",
          "iopub.status.idle": "2023-11-16T12:28:57.150308Z",
          "shell.execute_reply": "2023-11-16T12:28:57.149691Z"
        },
        "id": "B9iKPXkw5xwa"
      },
      "outputs": [],
      "source": [
        "dataset = sequences.map(split_input_target)"
      ]
    },
    {
      "cell_type": "code",
      "execution_count": null,
      "metadata": {
        "execution": {
          "iopub.execute_input": "2023-11-16T12:28:57.153244Z",
          "iopub.status.busy": "2023-11-16T12:28:57.153010Z",
          "iopub.status.idle": "2023-11-16T12:28:57.182838Z",
          "shell.execute_reply": "2023-11-16T12:28:57.182219Z"
        },
        "id": "GNbw-iR0ymwj",
        "colab": {
          "base_uri": "https://localhost:8080/"
        },
        "outputId": "46345c8a-99c6-48f0-f13b-8c931a4ea230"
      },
      "outputs": [
        {
          "output_type": "stream",
          "name": "stdout",
          "text": [
            "Input : b'First Citizen:\\nBefore we proceed any further, hear me speak.\\n\\nAll:\\nSpeak, speak.\\n\\nFirst Citizen:\\nYou'\n",
            "Target: b'irst Citizen:\\nBefore we proceed any further, hear me speak.\\n\\nAll:\\nSpeak, speak.\\n\\nFirst Citizen:\\nYou '\n"
          ]
        }
      ],
      "source": [
        "for input_example, target_example in dataset.take(1):\n",
        "    print(\"Input :\", text_from_ids(input_example).numpy())\n",
        "    print(\"Target:\", text_from_ids(target_example).numpy())"
      ]
    },
    {
      "cell_type": "markdown",
      "metadata": {
        "id": "MJdfPmdqzf-R"
      },
      "source": [
        "### Batches de entrenamiento\n",
        "\n",
        "Usamos `tf.data` para dividir el texto en secuencias manejables. Pero antes de introducir estos datos en el modelo, es necesario mezclarlos y batchearlos."
      ]
    },
    {
      "cell_type": "code",
      "execution_count": null,
      "metadata": {
        "execution": {
          "iopub.execute_input": "2023-11-16T12:28:57.186368Z",
          "iopub.status.busy": "2023-11-16T12:28:57.185700Z",
          "iopub.status.idle": "2023-11-16T12:28:57.196417Z",
          "shell.execute_reply": "2023-11-16T12:28:57.195811Z"
        },
        "id": "p2pGotuNzf-S",
        "colab": {
          "base_uri": "https://localhost:8080/"
        },
        "outputId": "bbc8cd0d-12d3-4b9a-d097-ea79f05a0605"
      },
      "outputs": [
        {
          "output_type": "execute_result",
          "data": {
            "text/plain": [
              "<_PrefetchDataset element_spec=(TensorSpec(shape=(64, 100), dtype=tf.int64, name=None), TensorSpec(shape=(64, 100), dtype=tf.int64, name=None))>"
            ]
          },
          "metadata": {},
          "execution_count": 25
        }
      ],
      "source": [
        "# Batch size\n",
        "BATCH_SIZE = 64\n",
        "\n",
        "# Buffer size to shuffle the dataset\n",
        "# (TF data is designed to work with possibly infinite sequences,\n",
        "# so it doesn't attempt to shuffle the entire sequence in memory. Instead,\n",
        "# it maintains a buffer in which it shuffles elements).\n",
        "BUFFER_SIZE = 10000\n",
        "\n",
        "dataset = (\n",
        "    dataset\n",
        "    .shuffle(BUFFER_SIZE)\n",
        "    .batch(BATCH_SIZE, drop_remainder=True)\n",
        "    .prefetch(tf.data.experimental.AUTOTUNE))\n",
        "\n",
        "dataset"
      ]
    },
    {
      "cell_type": "markdown",
      "metadata": {
        "id": "r6oUuElIMgVx"
      },
      "source": [
        "## Construccion del modelo"
      ]
    },
    {
      "cell_type": "markdown",
      "metadata": {
        "id": "m8gPwEjRzf-Z"
      },
      "source": [
        "En esta sección definimos el modelo como una subclase de `keras.Model`\n",
        "Este modelo tiene tres capas:\n",
        "\n",
        "* `tf.keras.layers.Embedding`: La capa de entrada. Una lookup table entrenable que asignará cada ID de carácter a un vector con dimensiones `embedding_dim`;\n",
        "* `tf.keras.layers.GRU`: una capa recurrente GRU de tamaño `units=rnn_units` (también se puede usar una capa LSTM aquí).\n",
        "* `tf.keras.layers.Dense`: La capa de salida, con salidas `vocab_size`. Genera un logit para cada carácter del vocabulario. Estas son las probabilidades de cada caracter según el modelo."
      ]
    },
    {
      "cell_type": "code",
      "execution_count": null,
      "metadata": {
        "execution": {
          "iopub.execute_input": "2023-11-16T12:28:57.199659Z",
          "iopub.status.busy": "2023-11-16T12:28:57.199433Z",
          "iopub.status.idle": "2023-11-16T12:28:57.203643Z",
          "shell.execute_reply": "2023-11-16T12:28:57.203074Z"
        },
        "id": "zHT8cLh7EAsg"
      },
      "outputs": [],
      "source": [
        "import tensorflow as tf\n",
        "\n",
        "# Length of the vocabulary in StringLookup Layer\n",
        "vocab_size = len(ids_from_chars.get_vocabulary())\n",
        "\n",
        "# The embedding dimension\n",
        "embedding_dim = 256\n",
        "\n",
        "# Number of RNN units\n",
        "rnn_units = 1024"
      ]
    },
    {
      "cell_type": "code",
      "execution_count": null,
      "metadata": {
        "execution": {
          "iopub.execute_input": "2023-11-16T12:28:57.206868Z",
          "iopub.status.busy": "2023-11-16T12:28:57.206479Z",
          "iopub.status.idle": "2023-11-16T12:28:57.212069Z",
          "shell.execute_reply": "2023-11-16T12:28:57.211498Z"
        },
        "id": "wj8HQ2w8z4iO"
      },
      "outputs": [],
      "source": [
        "class MyModel(tf.keras.Model):\n",
        "  def __init__(self, vocab_size, embedding_dim, rnn_units):\n",
        "    super().__init__(self)\n",
        "    self.embedding = tf.keras.layers.Embedding(vocab_size, embedding_dim)\n",
        "    self.gru = tf.keras.layers.GRU(rnn_units,\n",
        "                                   return_sequences=True,\n",
        "                                   return_state=True)\n",
        "    self.dense = tf.keras.layers.Dense(vocab_size)\n",
        "\n",
        "  def call(self, inputs, states=None, return_state=False, training=False):\n",
        "    x = inputs\n",
        "    x = self.embedding(x, training=training)\n",
        "    if states is None:\n",
        "      states = self.gru.get_initial_state(x)\n",
        "    x, states = self.gru(x, initial_state=states, training=training)\n",
        "    x = self.dense(x, training=training)\n",
        "\n",
        "    if return_state:\n",
        "      return x, states\n",
        "    else:\n",
        "      return x"
      ]
    },
    {
      "cell_type": "code",
      "execution_count": null,
      "metadata": {
        "execution": {
          "iopub.execute_input": "2023-11-16T12:28:57.215201Z",
          "iopub.status.busy": "2023-11-16T12:28:57.214660Z",
          "iopub.status.idle": "2023-11-16T12:28:57.230058Z",
          "shell.execute_reply": "2023-11-16T12:28:57.229421Z"
        },
        "id": "IX58Xj9z47Aw"
      },
      "outputs": [],
      "source": [
        "model = MyModel(\n",
        "    vocab_size=vocab_size,\n",
        "    embedding_dim=embedding_dim,\n",
        "    rnn_units=rnn_units)"
      ]
    },
    {
      "cell_type": "markdown",
      "metadata": {
        "id": "RkA5upJIJ7W7"
      },
      "source": [
        "Por cada caracter el modelo calcula su embedding, corre la GRU un timestep con el embedding como entrada y aplica la capa densa para generar los logits prediciendo la probabilidades del siguiente caracter.\n",
        "\n",
        "![A drawing of the data passing through the model](https://github.com/FCEIA-AAII/lab10/blob/master/images/text_generation_training.png?raw=1)"
      ]
    },
    {
      "cell_type": "markdown",
      "metadata": {
        "id": "gKbfm04amhXk"
      },
      "source": [
        "Nota: Para el entrenamiento, se puede utilizar un modelo `keras.Sequential`. Para generar texto más adelante, necesitaremos administrar el estado interno de la RNN. Es más sencillo incluir las opciones de entrada y salida de estado por adelantado que reorganizar la arquitectura del modelo más adelante. Para obtener más detalles, consulte [Keras RNN guide](https://www.tensorflow.org/guide/keras/rnn#rnn_state_reuse)."
      ]
    },
    {
      "cell_type": "markdown",
      "metadata": {
        "id": "-ubPo0_9Prjb"
      },
      "source": [
        "## Probar el modelo\n",
        "\n",
        "Ejecutamos el modelo para ver que se comporta como se esperaba.\n",
        "\n",
        "Primero verificamos la shape de salida:"
      ]
    },
    {
      "cell_type": "code",
      "execution_count": null,
      "metadata": {
        "execution": {
          "iopub.execute_input": "2023-11-16T12:28:57.233847Z",
          "iopub.status.busy": "2023-11-16T12:28:57.233365Z",
          "iopub.status.idle": "2023-11-16T12:28:59.298091Z",
          "shell.execute_reply": "2023-11-16T12:28:59.297223Z"
        },
        "id": "C-_70kKAPrPU",
        "colab": {
          "base_uri": "https://localhost:8080/"
        },
        "outputId": "cfb7ef2f-1a2f-41ed-83a8-95d4ee866fc3"
      },
      "outputs": [
        {
          "output_type": "stream",
          "name": "stdout",
          "text": [
            "(64, 100, 66) # (batch_size, sequence_length, vocab_size)\n"
          ]
        }
      ],
      "source": [
        "for input_example_batch, target_example_batch in dataset.take(1):\n",
        "    example_batch_predictions = model(input_example_batch)\n",
        "    print(example_batch_predictions.shape, \"# (batch_size, sequence_length, vocab_size)\")"
      ]
    },
    {
      "cell_type": "markdown",
      "metadata": {
        "id": "Q6NzLBi4VM4o"
      },
      "source": [
        "En el ejemplo anterior, la longitud de la secuencia de la entrada es `100`, pero el modelo se puede ejecutar con entradas de cualquier longitud:"
      ]
    },
    {
      "cell_type": "code",
      "execution_count": null,
      "metadata": {
        "execution": {
          "iopub.execute_input": "2023-11-16T12:28:59.301864Z",
          "iopub.status.busy": "2023-11-16T12:28:59.301192Z",
          "iopub.status.idle": "2023-11-16T12:28:59.313047Z",
          "shell.execute_reply": "2023-11-16T12:28:59.312318Z"
        },
        "id": "vPGmAAXmVLGC",
        "colab": {
          "base_uri": "https://localhost:8080/"
        },
        "outputId": "07128c15-bf87-4d21-ab9e-40780fdadcee"
      },
      "outputs": [
        {
          "output_type": "stream",
          "name": "stdout",
          "text": [
            "Model: \"my_model\"\n",
            "_________________________________________________________________\n",
            " Layer (type)                Output Shape              Param #   \n",
            "=================================================================\n",
            " embedding (Embedding)       multiple                  16896     \n",
            "                                                                 \n",
            " gru (GRU)                   multiple                  3938304   \n",
            "                                                                 \n",
            " dense (Dense)               multiple                  67650     \n",
            "                                                                 \n",
            "=================================================================\n",
            "Total params: 4022850 (15.35 MB)\n",
            "Trainable params: 4022850 (15.35 MB)\n",
            "Non-trainable params: 0 (0.00 Byte)\n",
            "_________________________________________________________________\n"
          ]
        }
      ],
      "source": [
        "model.summary()"
      ]
    },
    {
      "cell_type": "markdown",
      "metadata": {
        "id": "uwv0gEkURfx1"
      },
      "source": [
        "Para obtener predicciones reales del modelo, se deben tomar muestras de la distribución de salida para obtener índices de caracteres reales. Esta distribución está definida por los logits sobre el vocabulario de los caracteres.\n",
        "\n",
        "Nota: Es importante tomar una muestra de esta distribución, ya que tomar el _argmax_ de la distribución puede fácilmente hacer que el modelo se atasque en un bucle.\n",
        "\n",
        "Tomando como ejemplo el primero del batch:"
      ]
    },
    {
      "cell_type": "code",
      "execution_count": null,
      "metadata": {
        "execution": {
          "iopub.execute_input": "2023-11-16T12:28:59.320016Z",
          "iopub.status.busy": "2023-11-16T12:28:59.319623Z",
          "iopub.status.idle": "2023-11-16T12:28:59.326563Z",
          "shell.execute_reply": "2023-11-16T12:28:59.325985Z"
        },
        "id": "4V4MfFg0RQJg"
      },
      "outputs": [],
      "source": [
        "sampled_indices = tf.random.categorical(example_batch_predictions[0], num_samples=1)\n",
        "sampled_indices = tf.squeeze(sampled_indices, axis=-1).numpy()"
      ]
    },
    {
      "cell_type": "markdown",
      "metadata": {
        "id": "QM1Vbxs_URw5"
      },
      "source": [
        "Esto nos da para cada timestep una predicción del siguiente índice de caracteres:"
      ]
    },
    {
      "cell_type": "code",
      "execution_count": null,
      "metadata": {
        "execution": {
          "iopub.execute_input": "2023-11-16T12:28:59.330052Z",
          "iopub.status.busy": "2023-11-16T12:28:59.329445Z",
          "iopub.status.idle": "2023-11-16T12:28:59.333889Z",
          "shell.execute_reply": "2023-11-16T12:28:59.333297Z"
        },
        "id": "YqFMUQc_UFgM",
        "colab": {
          "base_uri": "https://localhost:8080/"
        },
        "outputId": "485d78db-5d90-404c-f008-2c816ffac2fa"
      },
      "outputs": [
        {
          "output_type": "execute_result",
          "data": {
            "text/plain": [
              "array([19, 50, 14, 33, 47, 14, 14, 12, 14,  6, 61, 21, 45, 61, 28, 44, 64,\n",
              "       25, 37, 29, 57, 25, 18, 25, 60, 53, 10, 64, 34, 12, 28,  9,  1, 56,\n",
              "       18, 47,  9, 55, 22,  0, 42, 54, 51, 54, 30, 13, 61, 51,  4, 65, 33,\n",
              "        8, 28, 40,  9, 49,  4, 62, 31, 20, 16, 31, 11,  5, 46, 35, 61, 51,\n",
              "       44, 59, 46, 38, 39, 20, 65, 58, 45, 53, 33, 44,  7, 16, 27, 54, 24,\n",
              "       54, 23, 11, 63, 10,  6, 13, 34, 47, 16, 22, 10, 18,  4, 13])"
            ]
          },
          "metadata": {},
          "execution_count": 32
        }
      ],
      "source": [
        "sampled_indices"
      ]
    },
    {
      "cell_type": "markdown",
      "metadata": {
        "id": "LfLtsP3mUhCG"
      },
      "source": [
        "Por ultimo los decodificamos para ver el texto predicho por este modelo no entrenado:"
      ]
    },
    {
      "cell_type": "code",
      "execution_count": null,
      "metadata": {
        "execution": {
          "iopub.execute_input": "2023-11-16T12:28:59.337383Z",
          "iopub.status.busy": "2023-11-16T12:28:59.336856Z",
          "iopub.status.idle": "2023-11-16T12:28:59.343044Z",
          "shell.execute_reply": "2023-11-16T12:28:59.342429Z"
        },
        "id": "xWcFwPwLSo05",
        "colab": {
          "base_uri": "https://localhost:8080/"
        },
        "outputId": "d698aeab-8faf-44a5-de3e-06fca4dccc0d"
      },
      "outputs": [
        {
          "output_type": "stream",
          "name": "stdout",
          "text": [
            "Input:\n",
            " b'ther die by the law than my son should be\\nunlawfully born. But, O, how much is the good duke\\ndeceive'\n",
            "\n",
            "Next Char Predictions:\n",
            " b\"FkAThAA;A'vHfvOeyLXPrLELun3yU;O.\\nqEh.pI[UNK]coloQ?vl$zT-Oa.j$wRGCR:&gVvletgYZGzsfnTe,CNoKoJ:x3'?UhCI3E$?\"\n"
          ]
        }
      ],
      "source": [
        "print(\"Input:\\n\", text_from_ids(input_example_batch[0]).numpy())\n",
        "print()\n",
        "print(\"Next Char Predictions:\\n\", text_from_ids(sampled_indices).numpy())"
      ]
    },
    {
      "cell_type": "markdown",
      "metadata": {
        "id": "LJL0Q0YPY6Ee"
      },
      "source": [
        "## Entrenamiento del modelo"
      ]
    },
    {
      "cell_type": "markdown",
      "metadata": {
        "id": "YCbHQHiaa4Ic"
      },
      "source": [
        "El problema puede tratarse como un problema de clasificación estándar. Dado el estado RNN anterior y la entrada en este timestep, predice la clase del siguiente carácter."
      ]
    },
    {
      "cell_type": "markdown",
      "metadata": {
        "id": "trpqTWyvk0nr"
      },
      "source": [
        "### Agregamos un optimizador y una funcion costo"
      ]
    },
    {
      "cell_type": "markdown",
      "metadata": {
        "id": "UAjbjY03eiQ4"
      },
      "source": [
        "La función de pérdida estándar `tf.keras.losses.sparse_categorical_crossentropy` funciona en este caso porque se aplica en la última dimensión de las predicciones.\n",
        "\n",
        "Debido a que su modelo devuelve logits, necesita configurar el indicador `from_logits`."
      ]
    },
    {
      "cell_type": "code",
      "execution_count": null,
      "metadata": {
        "execution": {
          "iopub.execute_input": "2023-11-16T12:28:59.346468Z",
          "iopub.status.busy": "2023-11-16T12:28:59.346077Z",
          "iopub.status.idle": "2023-11-16T12:28:59.349273Z",
          "shell.execute_reply": "2023-11-16T12:28:59.348679Z"
        },
        "id": "ZOeWdgxNFDXq"
      },
      "outputs": [],
      "source": [
        "loss = tf.losses.SparseCategoricalCrossentropy(from_logits=True)"
      ]
    },
    {
      "cell_type": "code",
      "execution_count": null,
      "metadata": {
        "execution": {
          "iopub.execute_input": "2023-11-16T12:28:59.352397Z",
          "iopub.status.busy": "2023-11-16T12:28:59.351903Z",
          "iopub.status.idle": "2023-11-16T12:28:59.372218Z",
          "shell.execute_reply": "2023-11-16T12:28:59.371637Z"
        },
        "id": "4HrXTACTdzY-",
        "colab": {
          "base_uri": "https://localhost:8080/"
        },
        "outputId": "cf02ead7-2134-4d4a-e958-e5a8958fe8d1"
      },
      "outputs": [
        {
          "output_type": "stream",
          "name": "stdout",
          "text": [
            "Prediction shape:  (64, 100, 66)  # (batch_size, sequence_length, vocab_size)\n",
            "Mean loss:         tf.Tensor(4.190506, shape=(), dtype=float32)\n"
          ]
        }
      ],
      "source": [
        "example_batch_mean_loss = loss(target_example_batch, example_batch_predictions)\n",
        "print(\"Prediction shape: \", example_batch_predictions.shape, \" # (batch_size, sequence_length, vocab_size)\")\n",
        "print(\"Mean loss:        \", example_batch_mean_loss)"
      ]
    },
    {
      "cell_type": "markdown",
      "metadata": {
        "id": "vkvUIneTFiow"
      },
      "source": [
        "Un modelo recién inicializado no debería estar demasiado seguro de sí mismo, todos los logits de salida deberían tener magnitudes similares. Para confirmar esto, puede comprobar que la exponencial del costo medio es aproximadamente igual al tamaño del vocabulario. Una pérdida mucho mayor significa que el modelo está seguro de sus respuestas incorrectas y está mal inicializado:"
      ]
    },
    {
      "cell_type": "code",
      "execution_count": null,
      "metadata": {
        "execution": {
          "iopub.execute_input": "2023-11-16T12:28:59.375456Z",
          "iopub.status.busy": "2023-11-16T12:28:59.375183Z",
          "iopub.status.idle": "2023-11-16T12:28:59.468894Z",
          "shell.execute_reply": "2023-11-16T12:28:59.468146Z"
        },
        "id": "MAJfS5YoFiHf",
        "colab": {
          "base_uri": "https://localhost:8080/"
        },
        "outputId": "1397f314-3c94-43cd-bf20-1aa7ff38e51c"
      },
      "outputs": [
        {
          "output_type": "execute_result",
          "data": {
            "text/plain": [
              "66.056206"
            ]
          },
          "metadata": {},
          "execution_count": 36
        }
      ],
      "source": [
        "tf.exp(example_batch_mean_loss).numpy()"
      ]
    },
    {
      "cell_type": "markdown",
      "metadata": {
        "id": "jeOXriLcymww"
      },
      "source": [
        "Compilamos el modelo con `tf.keras.Model.compile` indicando el optimizador y la funcion costo:"
      ]
    },
    {
      "cell_type": "code",
      "execution_count": null,
      "metadata": {
        "execution": {
          "iopub.execute_input": "2023-11-16T12:28:59.472229Z",
          "iopub.status.busy": "2023-11-16T12:28:59.471982Z",
          "iopub.status.idle": "2023-11-16T12:28:59.487518Z",
          "shell.execute_reply": "2023-11-16T12:28:59.486923Z"
        },
        "id": "DDl1_Een6rL0"
      },
      "outputs": [],
      "source": [
        "model.compile(optimizer='adam', loss=loss)"
      ]
    },
    {
      "cell_type": "markdown",
      "metadata": {
        "id": "ieSJdchZggUj"
      },
      "source": [
        "### Checkpoints del modelo"
      ]
    },
    {
      "cell_type": "markdown",
      "metadata": {
        "id": "C6XBUUavgF56"
      },
      "source": [
        "Usamos el callback `tf.keras.callbacks.ModelCheckpoint` para que se guarden checkpoints del modelo durante el entrenamiento."
      ]
    },
    {
      "cell_type": "code",
      "execution_count": null,
      "metadata": {
        "execution": {
          "iopub.execute_input": "2023-11-16T12:28:59.491101Z",
          "iopub.status.busy": "2023-11-16T12:28:59.490600Z",
          "iopub.status.idle": "2023-11-16T12:28:59.494365Z",
          "shell.execute_reply": "2023-11-16T12:28:59.493792Z"
        },
        "id": "W6fWTriUZP-n"
      },
      "outputs": [],
      "source": [
        "# Directory where the checkpoints will be saved\n",
        "checkpoint_dir = './training_checkpoints'\n",
        "# Name of the checkpoint files\n",
        "checkpoint_prefix = os.path.join(checkpoint_dir, \"ckpt_{epoch}\")\n",
        "\n",
        "checkpoint_callback = tf.keras.callbacks.ModelCheckpoint(\n",
        "    filepath=checkpoint_prefix,\n",
        "    save_weights_only=True)"
      ]
    },
    {
      "cell_type": "markdown",
      "metadata": {
        "id": "3Ky3F_BhgkTW"
      },
      "source": [
        "### Ejecucion del entrenamiento"
      ]
    },
    {
      "cell_type": "markdown",
      "metadata": {
        "id": "IxdOA-rgyGvs"
      },
      "source": [
        "Para mantener un tiempo de entrenamiento razonable, utilice entre 10 y 20 épocas para entrenar el modelo. En Colab, configure el tiempo de ejecución en GPU para un entrenamiento más rápido."
      ]
    },
    {
      "cell_type": "code",
      "execution_count": null,
      "metadata": {
        "execution": {
          "iopub.execute_input": "2023-11-16T12:28:59.497610Z",
          "iopub.status.busy": "2023-11-16T12:28:59.497078Z",
          "iopub.status.idle": "2023-11-16T12:28:59.499950Z",
          "shell.execute_reply": "2023-11-16T12:28:59.499383Z"
        },
        "id": "7yGBE2zxMMHs"
      },
      "outputs": [],
      "source": [
        "EPOCHS = 50"
      ]
    },
    {
      "cell_type": "code",
      "execution_count": null,
      "metadata": {
        "execution": {
          "iopub.execute_input": "2023-11-16T12:28:59.503111Z",
          "iopub.status.busy": "2023-11-16T12:28:59.502603Z",
          "iopub.status.idle": "2023-11-16T12:32:44.620282Z",
          "shell.execute_reply": "2023-11-16T12:32:44.619503Z"
        },
        "id": "UK-hmKjYVoll",
        "colab": {
          "base_uri": "https://localhost:8080/"
        },
        "outputId": "e8ffad33-43b7-4bcd-e262-d51091f12816"
      },
      "outputs": [
        {
          "output_type": "stream",
          "name": "stdout",
          "text": [
            "Epoch 1/50\n",
            "172/172 [==============================] - 16s 61ms/step - loss: 2.7128\n",
            "Epoch 2/50\n",
            "172/172 [==============================] - 10s 51ms/step - loss: 1.9823\n",
            "Epoch 3/50\n",
            "172/172 [==============================] - 10s 52ms/step - loss: 1.7013\n",
            "Epoch 4/50\n",
            "172/172 [==============================] - 12s 52ms/step - loss: 1.5413\n",
            "Epoch 5/50\n",
            "172/172 [==============================] - 11s 52ms/step - loss: 1.4445\n",
            "Epoch 6/50\n",
            "172/172 [==============================] - 10s 51ms/step - loss: 1.3770\n",
            "Epoch 7/50\n",
            "172/172 [==============================] - 11s 52ms/step - loss: 1.3250\n",
            "Epoch 8/50\n",
            "172/172 [==============================] - 11s 51ms/step - loss: 1.2789\n",
            "Epoch 9/50\n",
            "172/172 [==============================] - 12s 52ms/step - loss: 1.2376\n",
            "Epoch 10/50\n",
            "172/172 [==============================] - 11s 52ms/step - loss: 1.1969\n",
            "Epoch 11/50\n",
            "172/172 [==============================] - 11s 53ms/step - loss: 1.1572\n",
            "Epoch 12/50\n",
            "172/172 [==============================] - 11s 53ms/step - loss: 1.1138\n",
            "Epoch 13/50\n",
            "172/172 [==============================] - 12s 52ms/step - loss: 1.0699\n",
            "Epoch 14/50\n",
            "172/172 [==============================] - 11s 53ms/step - loss: 1.0224\n",
            "Epoch 15/50\n",
            "172/172 [==============================] - 11s 53ms/step - loss: 0.9736\n",
            "Epoch 16/50\n",
            "172/172 [==============================] - 11s 53ms/step - loss: 0.9215\n",
            "Epoch 17/50\n",
            "172/172 [==============================] - 11s 53ms/step - loss: 0.8683\n",
            "Epoch 18/50\n",
            "172/172 [==============================] - 11s 53ms/step - loss: 0.8149\n",
            "Epoch 19/50\n",
            "172/172 [==============================] - 12s 53ms/step - loss: 0.7642\n",
            "Epoch 20/50\n",
            "172/172 [==============================] - 12s 53ms/step - loss: 0.7163\n",
            "Epoch 21/50\n",
            "172/172 [==============================] - 11s 54ms/step - loss: 0.6709\n",
            "Epoch 22/50\n",
            "172/172 [==============================] - 11s 54ms/step - loss: 0.6313\n",
            "Epoch 23/50\n",
            "172/172 [==============================] - 11s 54ms/step - loss: 0.5991\n",
            "Epoch 24/50\n",
            "172/172 [==============================] - 11s 53ms/step - loss: 0.5696\n",
            "Epoch 25/50\n",
            "172/172 [==============================] - 12s 53ms/step - loss: 0.5448\n",
            "Epoch 26/50\n",
            "172/172 [==============================] - 11s 54ms/step - loss: 0.5233\n",
            "Epoch 27/50\n",
            "172/172 [==============================] - 11s 54ms/step - loss: 0.5061\n",
            "Epoch 28/50\n",
            "172/172 [==============================] - 11s 53ms/step - loss: 0.4905\n",
            "Epoch 29/50\n",
            "172/172 [==============================] - 11s 53ms/step - loss: 0.4787\n",
            "Epoch 30/50\n",
            "172/172 [==============================] - 12s 54ms/step - loss: 0.4687\n",
            "Epoch 31/50\n",
            "172/172 [==============================] - 11s 54ms/step - loss: 0.4568\n",
            "Epoch 32/50\n",
            "172/172 [==============================] - 11s 53ms/step - loss: 0.4477\n",
            "Epoch 33/50\n",
            "172/172 [==============================] - 11s 54ms/step - loss: 0.4443\n",
            "Epoch 34/50\n",
            "172/172 [==============================] - 11s 54ms/step - loss: 0.4396\n",
            "Epoch 35/50\n",
            "172/172 [==============================] - 12s 54ms/step - loss: 0.4346\n",
            "Epoch 36/50\n",
            "172/172 [==============================] - 11s 53ms/step - loss: 0.4299\n",
            "Epoch 37/50\n",
            "172/172 [==============================] - 11s 52ms/step - loss: 0.4245\n",
            "Epoch 38/50\n",
            "172/172 [==============================] - 11s 53ms/step - loss: 0.4205\n",
            "Epoch 39/50\n",
            "172/172 [==============================] - 11s 53ms/step - loss: 0.4217\n",
            "Epoch 40/50\n",
            "172/172 [==============================] - 12s 53ms/step - loss: 0.4241\n",
            "Epoch 41/50\n",
            "172/172 [==============================] - 11s 53ms/step - loss: 0.4229\n",
            "Epoch 42/50\n",
            "172/172 [==============================] - 11s 54ms/step - loss: 0.4214\n",
            "Epoch 43/50\n",
            "172/172 [==============================] - 11s 53ms/step - loss: 0.4231\n",
            "Epoch 44/50\n",
            "172/172 [==============================] - 12s 52ms/step - loss: 0.4180\n",
            "Epoch 45/50\n",
            "172/172 [==============================] - 11s 53ms/step - loss: 0.4170\n",
            "Epoch 46/50\n",
            "172/172 [==============================] - 11s 54ms/step - loss: 0.4141\n",
            "Epoch 47/50\n",
            "172/172 [==============================] - 11s 54ms/step - loss: 0.4134\n",
            "Epoch 48/50\n",
            "172/172 [==============================] - 11s 54ms/step - loss: 0.4151\n",
            "Epoch 49/50\n",
            "172/172 [==============================] - 11s 54ms/step - loss: 0.4192\n",
            "Epoch 50/50\n",
            "172/172 [==============================] - 11s 54ms/step - loss: 0.4157\n"
          ]
        }
      ],
      "source": [
        "history = model.fit(dataset, epochs=EPOCHS, callbacks=[checkpoint_callback])"
      ]
    },
    {
      "cell_type": "markdown",
      "metadata": {
        "id": "kKkD5M6eoSiN"
      },
      "source": [
        "## Generacion de texto"
      ]
    },
    {
      "cell_type": "markdown",
      "metadata": {
        "id": "oIdQ8c8NvMzV"
      },
      "source": [
        "La forma más sencilla de generar texto con este modelo es ejecutarlo en un bucle y realizar un seguimiento del estado interno del modelo a medida que lo ejecutamos.\n",
        "\n",
        "![Para generar texto, la salida del modelo se retroalimenta a la entrada](https://github.com/FCEIA-AAII/lab10/blob/master/images/text_generation_sampling.png?raw=1)\n",
        "\n",
        "Cada vez que llamamos al modelo, pasamos algún texto y un estado interno. El modelo devuelve una predicción para el siguiente caracter y su nuevo estado. Vuelva a pasar la predicción y el estado para continuar generando texto.\n"
      ]
    },
    {
      "cell_type": "markdown",
      "metadata": {
        "id": "DjGz1tDkzf-u"
      },
      "source": [
        "Lo siguiente hace una predicción de un solo paso:"
      ]
    },
    {
      "cell_type": "code",
      "execution_count": null,
      "metadata": {
        "execution": {
          "iopub.execute_input": "2023-11-16T12:32:44.624308Z",
          "iopub.status.busy": "2023-11-16T12:32:44.624035Z",
          "iopub.status.idle": "2023-11-16T12:32:44.632095Z",
          "shell.execute_reply": "2023-11-16T12:32:44.631505Z"
        },
        "id": "iSBU1tHmlUSs"
      },
      "outputs": [],
      "source": [
        "class OneStep(tf.keras.Model):\n",
        "  def __init__(self, model, chars_from_ids, ids_from_chars, temperature=1.0):\n",
        "    super().__init__()\n",
        "    self.temperature = temperature\n",
        "    self.model = model\n",
        "    self.chars_from_ids = chars_from_ids\n",
        "    self.ids_from_chars = ids_from_chars\n",
        "\n",
        "    # Create a mask to prevent \"[UNK]\" from being generated.\n",
        "    skip_ids = self.ids_from_chars(['[UNK]'])[:, None]\n",
        "    sparse_mask = tf.SparseTensor(\n",
        "        # Put a -inf at each bad index.\n",
        "        values=[-float('inf')]*len(skip_ids),\n",
        "        indices=skip_ids,\n",
        "        # Match the shape to the vocabulary\n",
        "        dense_shape=[len(ids_from_chars.get_vocabulary())])\n",
        "    self.prediction_mask = tf.sparse.to_dense(sparse_mask)\n",
        "\n",
        "  @tf.function\n",
        "  def generate_one_step(self, inputs, states=None):\n",
        "    # Convert strings to token IDs.\n",
        "    input_chars = tf.strings.unicode_split(inputs, 'UTF-8')\n",
        "    input_ids = self.ids_from_chars(input_chars).to_tensor()\n",
        "\n",
        "    # Run the model.\n",
        "    # predicted_logits.shape is [batch, char, next_char_logits]\n",
        "    predicted_logits, states = self.model(inputs=input_ids, states=states,\n",
        "                                          return_state=True)\n",
        "    # Only use the last prediction.\n",
        "    predicted_logits = predicted_logits[:, -1, :]\n",
        "    predicted_logits = predicted_logits/self.temperature\n",
        "    # Apply the prediction mask: prevent \"[UNK]\" from being generated.\n",
        "    predicted_logits = predicted_logits + self.prediction_mask\n",
        "\n",
        "    # Sample the output logits to generate token IDs.\n",
        "    predicted_ids = tf.random.categorical(predicted_logits, num_samples=1)\n",
        "    predicted_ids = tf.squeeze(predicted_ids, axis=-1)\n",
        "\n",
        "    # Convert from token ids to characters\n",
        "    predicted_chars = self.chars_from_ids(predicted_ids)\n",
        "\n",
        "    # Return the characters and model state.\n",
        "    return predicted_chars, states"
      ]
    },
    {
      "cell_type": "code",
      "execution_count": null,
      "metadata": {
        "execution": {
          "iopub.execute_input": "2023-11-16T12:32:44.635387Z",
          "iopub.status.busy": "2023-11-16T12:32:44.634915Z",
          "iopub.status.idle": "2023-11-16T12:32:44.650442Z",
          "shell.execute_reply": "2023-11-16T12:32:44.649807Z"
        },
        "id": "fqMOuDutnOxK"
      },
      "outputs": [],
      "source": [
        "one_step_model = OneStep(model, chars_from_ids, ids_from_chars)"
      ]
    },
    {
      "cell_type": "markdown",
      "metadata": {
        "id": "p9yDoa0G3IgQ"
      },
      "source": [
        "Lo ejecutamos en un bucle para generar texto. Al observar el texto generado, veremos que el modelo sabe cuándo poner mayúsculas, hacer párrafos e imita un vocabulario de escritura similar al de Game Of Thrones. Con el reducido número de épocas de entrenamiento, todavía no ha aprendido a formar frases coherentes."
      ]
    },
    {
      "cell_type": "code",
      "execution_count": null,
      "metadata": {
        "execution": {
          "iopub.execute_input": "2023-11-16T12:32:44.653513Z",
          "iopub.status.busy": "2023-11-16T12:32:44.653276Z",
          "iopub.status.idle": "2023-11-16T12:32:47.538437Z",
          "shell.execute_reply": "2023-11-16T12:32:47.537704Z"
        },
        "id": "ST7PSyk9t1mT",
        "colab": {
          "base_uri": "https://localhost:8080/"
        },
        "outputId": "a283a5ce-6036-4b14-f891-59441d31a2d6"
      },
      "outputs": [
        {
          "output_type": "stream",
          "name": "stdout",
          "text": [
            "Sheakspeares notive but boundly lists\n",
            "And pluck'd up with procereings, that no more comes\n",
            "To have some part end or solemn hands.\n",
            "\n",
            "CLIFFORD:\n",
            "My lady's dead! how he is in!\n",
            "Here comes the fault to you. Lord Angelo's womb,\n",
            "That rage, for quarrel of a soldier arm;\n",
            "Hold-morrow, as I am now chaste, and Tranio.\n",
            "\n",
            "TRANIO:\n",
            "Master, fool! what, in this viewly die?\n",
            "\n",
            "DUKE OF YORK:\n",
            "Please you, sir, so hath a haste hours here let God his grace.\n",
            "A pack had more blazing incornatement\n",
            "Of my heart's deputy, shall kingly give thee like requian.\n",
            "\n",
            "KING RICHARD II:\n",
            "Now put it, I say; thou shouldst be man,\n",
            "Like out again with rude and lent mischance\n",
            "In the shepherd's nose, and let the coronation.\n",
            "Thy father, by God-grandon! Who's there? O woful, we have spoke,\n",
            "a bawd of health, and give him chair, and shrift\n",
            "His horse in blood, but in my speeches\n",
            "Were neared to: for a thousand crowns!\n",
            "I prophys are made to be his dishonour'd,--\n",
            "Whom Warwick was my father's fault, if this Marcius\n",
            "Where were unearded! make not man he is.\n",
            "\n",
            "L \n",
            "\n",
            "________________________________________________________________________________\n",
            "\n",
            "Run time: 3.175420045852661\n"
          ]
        }
      ],
      "source": [
        "start = time.time()\n",
        "states = None\n",
        "next_char = tf.constant(['Sheakspeare'])\n",
        "result = [next_char]\n",
        "\n",
        "for n in range(1000):\n",
        "  next_char, states = one_step_model.generate_one_step(next_char, states=states)\n",
        "  result.append(next_char)\n",
        "\n",
        "result = tf.strings.join(result)\n",
        "end = time.time()\n",
        "print(result[0].numpy().decode('utf-8'), '\\n\\n' + '_'*80)\n",
        "print('\\nRun time:', end - start)"
      ]
    },
    {
      "cell_type": "markdown",
      "metadata": {
        "id": "AM2Uma_-yVIq"
      },
      "source": [
        "Lo más fácil que podemos hacer para mejorar los resultados es entrenarlo por más tiempo (prueba con `EPOCHS = 30`).\n",
        "\n",
        "También puede experimentar con una secuencia de inicio diferente, intentar agregar otra capa RNN para mejorar la precisión del modelo o ajustar el parámetro de temperatura para generar predicciones más o menos aleatorias."
      ]
    },
    {
      "cell_type": "markdown",
      "metadata": {
        "id": "_OfbI4aULmuj"
      },
      "source": [
        "Si queremos que el modelo genere texto *más rápido*, lo más fácil que se puede hacer es generar el texto por batches. En el siguiente ejemplo, el modelo genera 5 resultados aproximadamente en el mismo tiempo que tomó generar 1 arriba."
      ]
    },
    {
      "cell_type": "code",
      "execution_count": null,
      "metadata": {
        "execution": {
          "iopub.execute_input": "2023-11-16T12:32:47.542226Z",
          "iopub.status.busy": "2023-11-16T12:32:47.541967Z",
          "iopub.status.idle": "2023-11-16T12:32:50.432850Z",
          "shell.execute_reply": "2023-11-16T12:32:50.432024Z"
        },
        "id": "ZkLu7Y8UCMT7",
        "colab": {
          "base_uri": "https://localhost:8080/"
        },
        "outputId": "5e88a89e-64ae-4f44-d655-1d3103804b94"
      },
      "outputs": [
        {
          "output_type": "stream",
          "name": "stdout",
          "text": [
            "tf.Tensor(\n",
            "[b\"Sheakspeares night, thy love! that when the son is\\ntent me, now for our eyes do harm he himself\\nUpon this doing and ruterly dancing;\\nFor the endeards of your five house of his country:\\nIt is Lord Angelo.\\n\\nProvost:\\nA brant is your office.\\n\\nPETRUCHIO:\\nWhat, upares your hand!\\n\\nHORTENSIO:\\nFaith, he is growing of the hatrest, that would\\nBecome such a person. that if as\\nam not respite'sture. This froth case sighs as\\nyou shall lie night can humbly other light:\\nBut to refuse your highness; I'll assure you\\nOf some mercy: if I may have no more strange?\\n\\nQUEEN ELIZABETH:\\nCome, my Lord of Buckingham: but a not falch from her king,\\nAs I can first the helm of yours,\\nLet it be not too too found him; he is as little\\nWorse that blows us all the chaftimoor\\nMake raken unroon and a sudden audy too.\\n\\nTYBALT:\\nKind upon you!\\n\\nABHORSON:\\nTruly, justice! This poor masters do,\\nI am a hundred mortal sting: and see the wreck.\\nThis is a man, old, wrinkled, faded.\\nNow, noble lord, I think he'll tell thee.\\n\\nFirst Gentleman:\\nI m\"\n",
            " b\"Sheakspeares notice of her father? My that been way but for I\\nknew not hit thee to the means to make it fly.\\n\\nServant:\\nMy soul, bring forth.\\n\\nSAMPSON:\\nI must needs will I else her perforce was but a foul carried\\nPut in my theme of spake, as I have been!\\nFor you, my noble father lady in his bed\\nbeing to best, and will, not for memies.\\nYoung Neds, a most mathom--\\n\\nClawn: I thought you have met with him resolute;\\nA mad-face to the air of the maid,\\nThough he be patient to my request soft,\\nWhich we will seem to behold this peace!\\nFor this is all, for that I have no further.\\nBut who comes here? Go, and will then be advised\\nUpon with swords advanced and weep with little,\\nThan sometimes honourable stominies;\\nYour deery rich from thunder in the vessel,\\nWhich we will put you to my brother's late\\nOnes of mercy, on a good dishonour fingers,\\nA cavility of better power in vain Rome,\\nBut love a barmen of a bitter deeds,\\nOr as the counce in some storm'st of the weather.\\nAh, Warwick, Warwick, you may chance to fi\"\n",
            " b\"Sheakspeares nothing to be very short.\\n\\nHENRY BOLINGBROKE:\\nFarewell, my gracious lord.\\n\\nPRINCE EDWARD:\\nAnd with me an in change peefs from our coast\\nAnd grief be excuse his native rose that know't.\\n\\nMINANDA:\\nWhence we debase her the continuance,\\nMy pity set a fladly death.\\n\\nCLIFFORD:\\nAn you shall, she Said Some potity,\\nTo sea for my excuse.\\n\\nISABELLA:\\nAlas, alas! swear not, mighty lord?\\nHis name to the world's time, some inch far once what thou hast\\nThe restrove of it. Here came I hither;\\nAnd where the love I had forthy line\\nAnd happle give it thy direction to my wiff!\\nHow canst thou promised her maid on us.\\n\\nBRUTUS:\\nCome, sit upon our hotes--her hour,\\nhear their guiltliers and love-bed-one and growing,\\nAn any grown true supposed, as he squakest hour\\nLately disorderly and well; Hortessiol, you are too king?\\nEither leave me only for bate complaints.\\nWithin the indirccivatrent 'em, which I beseech you,\\nIf any if you think it for my time to fight,\\nAnd I'll do like the Tyrants of what art to\\nshow the\"\n",
            " b\"Sheakspeares notice? Come, sirrah, let's about it is.\\nHer father lives this country, that\\ninclinion to thy lord children's love in heart.\\nThat every day unto him hidewith too?\\n\\nGLOUCESTER:\\nWelcome, girl, my son, Greyoradab, you myself\\nFor him, or talk not to, and thou wilt say\\nWhat will either be their virtue be determined.\\n\\nWARWICK:\\nAnd Warwick, doing worse than war with him.\\nOr shallet, stand bald withal, commands,\\nWould not entreat must discible thee:\\nYou bear, my lord, where he hath worn so many's heir,\\nThat made a worthy husband lord,\\nTo choose you, countryment make down\\nEmbraze the wench a hazer: though\\nI new discourse where he use found upon the weak\\nThou wilt halm on him, I spoke with child, and break our pains\\nAs pardon to the door. Come, madam, good, best young foe.\\n\\nRIVERS:\\nBad is the duke; come, good my lord.\\n\\nHENRENBEY:\\nHow far is it, provost, royal and France,\\nNo counterfeit are thou canst do it;\\nAnd let his matter nars and depatting fire, so many, you;\\nMaster Boriols and restleys t\"\n",
            " b\"Sheakspeares notice, our general good!\\n\\nKING RICHARD II:\\nSo, I am Duke of Lancaster.\\n\\nJULIET:\\nWhat, hast thou soother would have man is stand;\\nAnd when thou hast patient to some meal of tear.\\n\\nGLOUCESTER:\\nYou have not dared to her the lusting board\\nThe capest of the throne death. His edge is worth\\nA liep and paper liars apparent to the outward taught\\nHave bless'd you with a husband thine own good name;\\nAnd thou no more fit for his sovereign in a holyman:\\nHe's ready to farther.\\n\\nPERDITA:\\nHap it not, I am a kind of blood;\\nThe curses in his face to fly that breath\\nAgainst my virtue bears That seasons.\\n\\nOfficer:\\nYou bid me make it.\\n\\nANGELO:\\nPlaise so well; I fear, the gaol is slaught\\nMake face that makes her pewern access to you.\\n\\nANGELO:\\nHow now, fair shepherd!\\nYour honour and displause is that so bedaw?\\n\\nNORTHUMBERLAND:\\nYour brother is a bloody spirit tomb!\\nAnd let it be virtuous Latizens,\\nLadies to say 'be glorn of my indeed; and that thou may, the\\nouthor that he should be;\\nAnd this that hath here\"], shape=(5,), dtype=string) \n",
            "\n",
            "________________________________________________________________________________\n",
            "\n",
            "Run time: 3.1076138019561768\n"
          ]
        }
      ],
      "source": [
        "start = time.time()\n",
        "states = None\n",
        "next_char = tf.constant(['Sheakspeare', 'Sheakspeare', 'Sheakspeare', 'Sheakspeare', 'Sheakspeare'])\n",
        "result = [next_char]\n",
        "\n",
        "for n in range(1000):\n",
        "  next_char, states = one_step_model.generate_one_step(next_char, states=states)\n",
        "  result.append(next_char)\n",
        "\n",
        "result = tf.strings.join(result)\n",
        "end = time.time()\n",
        "print(result, '\\n\\n' + '_'*80)\n",
        "print('\\nRun time:', end - start)"
      ]
    },
    {
      "cell_type": "markdown",
      "source": [
        "#### Probar con distintas temperaturas"
      ],
      "metadata": {
        "id": "nxs1iPDpZru2"
      }
    },
    {
      "cell_type": "code",
      "source": [
        "temperatures = [0.5, 1.0, 1.5]\n",
        "results = []\n",
        "\n",
        "for temp in temperatures:\n",
        "    print(f\"\\n### Generando texto con temperatura: {temp} ###\\n\")\n",
        "    one_step_model = OneStep(model, chars_from_ids, ids_from_chars, temperature=temp)\n",
        "\n",
        "    states = None\n",
        "    next_char = tf.constant(['Sheakspeare'])\n",
        "    result = [next_char]\n",
        "\n",
        "    for n in range(300):\n",
        "        next_char, states = one_step_model.generate_one_step(next_char, states=states)\n",
        "        result.append(next_char)\n",
        "\n",
        "    result = tf.strings.join(result)\n",
        "    print(result[0].numpy().decode('utf-8'))\n"
      ],
      "metadata": {
        "colab": {
          "base_uri": "https://localhost:8080/"
        },
        "id": "MoNAiBo0ZuAh",
        "outputId": "5ffe84d5-4213-4b66-835e-19fa6f5364ad"
      },
      "execution_count": null,
      "outputs": [
        {
          "output_type": "stream",
          "name": "stdout",
          "text": [
            "\n",
            "### Generando texto con temperatura: 0.5 ###\n",
            "\n",
            "Sheakspeares notice, how his happier kind\n",
            "That breed by the immodable of your brother's part,\n",
            "And, by the stranger pluck in hope, which will in time\n",
            "Break ope the devil and deliver you\n",
            "Of some short of my steed, whose tender lady\n",
            "Hath set the birds of patience and in one army\n",
            "Beggars, and gave them for the fau\n",
            "\n",
            "### Generando texto con temperatura: 1.0 ###\n",
            "\n",
            "Sheakspeares notice of his hands and that to the\n",
            "out: mine honest cheek the man, that thou art old,\n",
            "which now you seem'd ladies with a horse-frought of\n",
            "instered.\n",
            "\n",
            "Second Citizen:\n",
            "What will mourn fight, and yet my brother's blood,\n",
            "He's base the fearful King of France:\n",
            "Let us be blessed new together, but thou\n",
            "ca\n",
            "\n",
            "### Generando texto con temperatura: 1.5 ###\n",
            "\n",
            "Sheakspeares notice of Venician grave?\n",
            "\n",
            "DUCHESS OF YORK:\n",
            "Nay, if thy time would follow me.\n",
            "\n",
            "GLOUCESTER:\n",
            "Come you, pray, let us hear these years\n",
            "a most hell; and such in justice, yield,\n",
            "My soil thou art, an envious that I have.\n",
            "\n",
            "RICHARD:\n",
            "You're a brave fellow; I Harry Bolingbroke his trimb in a\n",
            "nughtee of our c\n"
          ]
        }
      ]
    },
    {
      "cell_type": "markdown",
      "source": [
        "# Modelo Palabra a Palabra"
      ],
      "metadata": {
        "id": "C2iETjKlZ3Aj"
      }
    },
    {
      "cell_type": "markdown",
      "source": [
        "### Preprocesamiento para palabra a palabra"
      ],
      "metadata": {
        "id": "FXHhpw40aBXv"
      }
    },
    {
      "cell_type": "markdown",
      "source": [
        "### Descripción del Código\n",
        "\n",
        "Este fragmento de código implementa el proceso de tokenización de texto a nivel de palabras utilizando TensorFlow, específicamente con la clase `Tokenizer` de Keras. A continuación se desglosa el funcionamiento de cada parte:\n",
        "\n",
        "1. **Creación del Tokenizer**:  \n",
        "   Se inicializa un tokenizador de texto de Keras con los siguientes parámetros:\n",
        "   - `filters=''`: No se aplican filtros sobre los caracteres especiales, lo que significa que los signos de puntuación y otros caracteres no serán eliminados.\n",
        "   - `lower=False`: Los textos no serán convertidos a minúsculas, lo que preserva la distinción entre mayúsculas y minúsculas en el texto.\n",
        "\n",
        "2. **Ajuste del Tokenizer**:  \n",
        "   Se entrena el tokenizador en el texto proporcionado (almacenado en la variable `text`). El método `fit_on_texts` analiza el texto y construye un índice de palabras basado en la frecuencia de aparición de cada una.\n",
        "\n",
        "3. **Creación de los Diccionarios `word2idx` e `idx2word`**:  \n",
        "   - `word2idx`: Es un diccionario que mapea cada palabra del vocabulario a un índice único.\n",
        "   - `idx2word`: Es el diccionario inverso, donde cada índice se asocia a su palabra correspondiente.\n",
        "\n",
        "4. **Conversión de Texto a Índices**:  \n",
        "   Este paso convierte el texto en una secuencia de enteros, donde cada entero corresponde al índice de la palabra en el vocabulario generado por el tokenizador. El resultado es una lista de índices que representan el texto.\n",
        "\n",
        "5. **Obtención del Tamaño del Vocabulario**:  \n",
        "   Calcula el tamaño total del vocabulario, es decir, el número de palabras únicas presentes en el texto.\n",
        "\n",
        "6. **Impresión del Tamaño del Vocabulario**:  \n",
        "   Finalmente, se imprime el tamaño del vocabulario a nivel de palabras, proporcionando información clave sobre la cantidad de términos únicos procesados por el tokenizador.\n",
        "\n",
        "---\n",
        "\n",
        "Este código permite transformar un texto en una representación numérica, donde cada palabra es sustituida por su índice correspondiente, lo cual es útil para su posterior procesamiento en modelos de aprendizaje automático, como redes neuronales para tareas de procesamiento de lenguaje natural (PLN).\n"
      ],
      "metadata": {
        "id": "i8JFgAtE7bfK"
      }
    },
    {
      "cell_type": "code",
      "source": [
        "# Tokenizar a nivel de palabras\n",
        "tokenizer = tf.keras.preprocessing.text.Tokenizer(filters='', lower=False)\n",
        "tokenizer.fit_on_texts([text])\n",
        "word2idx = tokenizer.word_index\n",
        "idx2word = {idx: word for word, idx in word2idx.items()}\n",
        "\n",
        "# Convertir texto a índices\n",
        "text_as_word_int = tokenizer.texts_to_sequences([text])[0]\n",
        "vocab_size_word = len(word2idx)\n",
        "\n",
        "print(f\"Vocabulario a nivel de palabras: {vocab_size_word}\")\n"
      ],
      "metadata": {
        "colab": {
          "base_uri": "https://localhost:8080/"
        },
        "id": "TpsbGBGpZ5O0",
        "outputId": "41600e89-6744-42b5-f4cc-7741f730cdbd"
      },
      "execution_count": null,
      "outputs": [
        {
          "output_type": "stream",
          "name": "stdout",
          "text": [
            "Vocabulario a nivel de palabras: 42196\n"
          ]
        }
      ]
    },
    {
      "cell_type": "markdown",
      "source": [
        "### Crear el dataset"
      ],
      "metadata": {
        "id": "dtF-bC_gaH0P"
      }
    },
    {
      "cell_type": "markdown",
      "source": [
        "###### Descripción del Código\n",
        "\n",
        "Este bloque de código tiene como objetivo crear y entrenar un modelo de red neuronal para procesamiento de lenguaje natural utilizando un enfoque basado en RNN (Redes Neuronales Recurrentes). A continuación se detallan sus componentes clave:\n",
        "\n",
        "1. **Definición de Longitud de Secuencia**:  \n",
        "   Se establece la longitud de las secuencias de entrada (`seq_length_word = 20`), lo que significa que el modelo tomará ventanas de 20 palabras consecutivas para entrenar. Luego, el texto se convierte en un conjunto de secuencias de longitud fija mediante el uso de `tf.data.Dataset`.\n",
        "\n",
        "2. **División en Entrada y Salida**:  \n",
        "   La función `split_input_target_word` toma un fragmento de texto (una secuencia) y lo divide en dos partes:\n",
        "   - **Entrada**: Todos los elementos de la secuencia, excepto el último (`chunk[:-1]`).\n",
        "   - **Salida**: Todos los elementos de la secuencia, excepto el primero (`chunk[1:]`).\n",
        "   Estas secuencias se utilizan como pares de entrada y salida para el entrenamiento del modelo.\n",
        "\n",
        "3. **Configuración de Batches**:  \n",
        "   Se configuran el tamaño de los lotes (`BATCH_SIZE = 64`) y un buffer para el shuffling de los datos (`BUFFER_SIZE = 10000`), lo que asegura que el modelo reciba datos aleatorios en cada época. El método `shuffle()` garantiza que los datos no sigan un patrón predecible.\n",
        "\n",
        "4. **Parámetros del Modelo**:  \n",
        "   - `embedding_dim_word = 256`: Dimensionalidad de los vectores de palabras en el espacio de características.\n",
        "   - `rnn_units_word = 1024`: Número de unidades en la capa recurrente, lo que determina la capacidad del modelo para capturar dependencias a largo plazo.\n",
        "\n",
        "5. **Instanciación del Modelo**:  \n",
        "   El modelo es instanciado con la clase personalizada `MyModel`, que toma como parámetros:\n",
        "   - `vocab_size_word + 1`: El tamaño del vocabulario más 1 (para incluir el token de relleno).\n",
        "   - `embedding_dim_word`: La dimensión del espacio de embedding.\n",
        "   - `rnn_units_word`: El número de unidades en la capa recurrente.\n",
        "\n",
        "6. **Compilación y Entrenamiento del Modelo**:  \n",
        "   - **Compilación**: El modelo es compilado con el optimizador `Adam` y una función de pérdida predefinida.\n",
        "   - **Entrenamiento**: El modelo se entrena durante 45 épocas usando el conjunto de datos creado anteriormente. Durante este proceso, se muestra la pérdida por cada época, que debe disminuir a medida que el modelo aprende a predecir correctamente las secuencias de texto.\n",
        "\n",
        "7. **Resumen del Modelo**:  \n",
        "   Al finalizar el entrenamiento, se muestra un resumen del modelo (`word_model.summary()`), proporcionando detalles sobre las capas y los parámetros entrenables del modelo.\n",
        "\n",
        "---\n",
        "\n",
        "Este enfoque de tokenización y modelado con redes neuronales recurrentes permite la creación de modelos avanzados de predicción de texto, capaces de aprender dependencias temporales y generar o completar secuencias de palabras de manera coherente.\n"
      ],
      "metadata": {
        "id": "igQ3j5yl7sGP"
      }
    },
    {
      "cell_type": "code",
      "source": [
        "# Definir longitud de secuencia\n",
        "seq_length_word = 20\n",
        "word_dataset = tf.data.Dataset.from_tensor_slices(text_as_word_int)\n",
        "sequences_word = word_dataset.batch(seq_length_word + 1, drop_remainder=True)\n",
        "\n",
        "# Dividir en entrada y salida\n",
        "def split_input_target_word(chunk):\n",
        "    input_text = chunk[:-1]\n",
        "    target_text = chunk[1:]\n",
        "    return input_text, target_text\n",
        "\n",
        "word_dataset = sequences_word.map(split_input_target_word)\n"
      ],
      "metadata": {
        "id": "HZxn1AdkavNT"
      },
      "execution_count": null,
      "outputs": []
    },
    {
      "cell_type": "code",
      "source": [
        "# Configurar batches\n",
        "BATCH_SIZE = 64\n",
        "BUFFER_SIZE = 10000\n",
        "\n",
        "word_dataset = word_dataset.shuffle(BUFFER_SIZE).batch(BATCH_SIZE, drop_remainder=True)\n"
      ],
      "metadata": {
        "id": "H56BKPlUawx2"
      },
      "execution_count": null,
      "outputs": []
    },
    {
      "cell_type": "code",
      "source": [
        "# Parámetros del modelo\n",
        "embedding_dim_word = 256\n",
        "rnn_units_word = 1024\n",
        "\n",
        "# Instanciar el modelo\n",
        "word_model = MyModel(vocab_size_word + 1, embedding_dim_word, rnn_units_word)\n",
        "\n",
        "# Compilación y entrenamiento\n",
        "word_model.compile(optimizer='adam', loss=loss)\n",
        "word_model.fit(word_dataset, epochs=45)\n"
      ],
      "metadata": {
        "colab": {
          "base_uri": "https://localhost:8080/"
        },
        "id": "NPxIp2Yaazi-",
        "outputId": "218ddc9b-04b0-400d-b3a0-baf37a3e77ee"
      },
      "execution_count": null,
      "outputs": [
        {
          "output_type": "stream",
          "name": "stdout",
          "text": [
            "Epoch 1/45\n",
            "126/126 [==============================] - 23s 139ms/step - loss: 9.2425\n",
            "Epoch 2/45\n",
            "126/126 [==============================] - 16s 125ms/step - loss: 8.2626\n",
            "Epoch 3/45\n",
            "126/126 [==============================] - 16s 121ms/step - loss: 8.0761\n",
            "Epoch 4/45\n",
            "126/126 [==============================] - 16s 124ms/step - loss: 7.8710\n",
            "Epoch 5/45\n",
            "126/126 [==============================] - 16s 121ms/step - loss: 7.6029\n",
            "Epoch 6/45\n",
            "126/126 [==============================] - 16s 123ms/step - loss: 7.2919\n",
            "Epoch 7/45\n",
            "126/126 [==============================] - 16s 123ms/step - loss: 6.8961\n",
            "Epoch 8/45\n",
            "126/126 [==============================] - 16s 122ms/step - loss: 6.3637\n",
            "Epoch 9/45\n",
            "126/126 [==============================] - 16s 121ms/step - loss: 5.7168\n",
            "Epoch 10/45\n",
            "126/126 [==============================] - 16s 122ms/step - loss: 4.9689\n",
            "Epoch 11/45\n",
            "126/126 [==============================] - 16s 122ms/step - loss: 4.1694\n",
            "Epoch 12/45\n",
            "126/126 [==============================] - 16s 122ms/step - loss: 3.4684\n",
            "Epoch 13/45\n",
            "126/126 [==============================] - 16s 122ms/step - loss: 2.9654\n",
            "Epoch 14/45\n",
            "126/126 [==============================] - 16s 122ms/step - loss: 2.5886\n",
            "Epoch 15/45\n",
            "126/126 [==============================] - 16s 122ms/step - loss: 2.2615\n",
            "Epoch 16/45\n",
            "126/126 [==============================] - 16s 121ms/step - loss: 1.9590\n",
            "Epoch 17/45\n",
            "126/126 [==============================] - 16s 121ms/step - loss: 1.6771\n",
            "Epoch 18/45\n",
            "126/126 [==============================] - 16s 122ms/step - loss: 1.4228\n",
            "Epoch 19/45\n",
            "126/126 [==============================] - 16s 122ms/step - loss: 1.2046\n",
            "Epoch 20/45\n",
            "126/126 [==============================] - 16s 122ms/step - loss: 1.0188\n",
            "Epoch 21/45\n",
            "126/126 [==============================] - 16s 122ms/step - loss: 0.8631\n",
            "Epoch 22/45\n",
            "126/126 [==============================] - 16s 122ms/step - loss: 0.7355\n",
            "Epoch 23/45\n",
            "126/126 [==============================] - 16s 121ms/step - loss: 0.6322\n",
            "Epoch 24/45\n",
            "126/126 [==============================] - 16s 122ms/step - loss: 0.5461\n",
            "Epoch 25/45\n",
            "126/126 [==============================] - 16s 123ms/step - loss: 0.4770\n",
            "Epoch 26/45\n",
            "126/126 [==============================] - 16s 122ms/step - loss: 0.4209\n",
            "Epoch 27/45\n",
            "126/126 [==============================] - 16s 121ms/step - loss: 0.3771\n",
            "Epoch 28/45\n",
            "126/126 [==============================] - 16s 122ms/step - loss: 0.3384\n",
            "Epoch 29/45\n",
            "126/126 [==============================] - 16s 122ms/step - loss: 0.3073\n",
            "Epoch 30/45\n",
            "126/126 [==============================] - 16s 122ms/step - loss: 0.2814\n",
            "Epoch 31/45\n",
            "126/126 [==============================] - 16s 122ms/step - loss: 0.2606\n",
            "Epoch 32/45\n",
            "126/126 [==============================] - 16s 122ms/step - loss: 0.2435\n",
            "Epoch 33/45\n",
            "126/126 [==============================] - 16s 121ms/step - loss: 0.2291\n",
            "Epoch 34/45\n",
            "126/126 [==============================] - 16s 123ms/step - loss: 0.2173\n",
            "Epoch 35/45\n",
            "126/126 [==============================] - 16s 122ms/step - loss: 0.2082\n",
            "Epoch 36/45\n",
            "126/126 [==============================] - 16s 122ms/step - loss: 0.2005\n",
            "Epoch 37/45\n",
            "126/126 [==============================] - 16s 121ms/step - loss: 0.1939\n",
            "Epoch 38/45\n",
            "126/126 [==============================] - 16s 122ms/step - loss: 0.1896\n",
            "Epoch 39/45\n",
            "126/126 [==============================] - 16s 123ms/step - loss: 0.1851\n",
            "Epoch 40/45\n",
            "126/126 [==============================] - 16s 122ms/step - loss: 0.1818\n",
            "Epoch 41/45\n",
            "126/126 [==============================] - 16s 122ms/step - loss: 0.1808\n",
            "Epoch 42/45\n",
            "126/126 [==============================] - 16s 122ms/step - loss: 0.1791\n",
            "Epoch 43/45\n",
            "126/126 [==============================] - 16s 122ms/step - loss: 0.1782\n",
            "Epoch 44/45\n",
            "126/126 [==============================] - 16s 122ms/step - loss: 0.1789\n",
            "Epoch 45/45\n",
            "126/126 [==============================] - 17s 125ms/step - loss: 0.1819\n"
          ]
        },
        {
          "output_type": "execute_result",
          "data": {
            "text/plain": [
              "<keras.src.callbacks.History at 0x79a4cf11b160>"
            ]
          },
          "metadata": {},
          "execution_count": 115
        }
      ]
    },
    {
      "cell_type": "code",
      "source": [
        "word_model.summary()"
      ],
      "metadata": {
        "colab": {
          "base_uri": "https://localhost:8080/"
        },
        "id": "4YCvNelHn-xk",
        "outputId": "f32a5620-9409-428e-9024-6f1cba26e273"
      },
      "execution_count": null,
      "outputs": [
        {
          "output_type": "stream",
          "name": "stdout",
          "text": [
            "Model: \"my_model_3\"\n",
            "_________________________________________________________________\n",
            " Layer (type)                Output Shape              Param #   \n",
            "=================================================================\n",
            " embedding_3 (Embedding)     multiple                  10802432  \n",
            "                                                                 \n",
            " gru_3 (GRU)                 multiple                  3938304   \n",
            "                                                                 \n",
            " dense_3 (Dense)             multiple                  43251925  \n",
            "                                                                 \n",
            "=================================================================\n",
            "Total params: 57992661 (221.22 MB)\n",
            "Trainable params: 57992661 (221.22 MB)\n",
            "Non-trainable params: 0 (0.00 Byte)\n",
            "_________________________________________________________________\n"
          ]
        }
      ]
    },
    {
      "cell_type": "markdown",
      "source": [
        "## Generación de texto palabra a palabra"
      ],
      "metadata": {
        "id": "TBb6fxo3dqSr"
      }
    },
    {
      "cell_type": "markdown",
      "source": [
        "###### Descripción del Código\n",
        "\n",
        "Este fragmento de código implementa la generación de texto a partir de un modelo entrenado utilizando la clase `OneStepWord`, que permite generar palabras de manera secuencial en función de las predicciones del modelo. A continuación se explica cada una de las partes clave:\n",
        "\n",
        "1. **Clase `OneStepWord`**:  \n",
        "   La clase `OneStepWord` hereda de `tf.keras.Model` y está diseñada para realizar la predicción paso a paso (una palabra a la vez) en un modelo de lenguaje basado en redes neuronales. En su inicialización, se pasan varios parámetros, entre ellos el modelo preentrenado, el diccionario de mapeo de palabras a índices (`word2idx`), el diccionario inverso de índices a palabras (`idx2word`), y una temperatura de control (`temperature`).\n",
        "\n",
        "   - **Máscara de Predicción**:  \n",
        "     Se crea una máscara para evitar la predicción de la palabra \"[UNK]\" (desconocida) durante la generación. Esto se logra al asignar un valor `-inf` a los índices correspondientes a \"[UNK]\", lo que hace que nunca se seleccione esa palabra durante el proceso de muestreo.\n",
        "\n",
        "   - **Tabla de Búsqueda (StaticHashTable)**:  \n",
        "     Se utiliza una `StaticHashTable` de TensorFlow para mapear las palabras a índices de manera eficiente durante la generación.\n",
        "\n",
        "2. **Método `generate_one_step`**:  \n",
        "   Este método genera una palabra a partir de una secuencia de entrada, paso a paso:\n",
        "   - **Entrada de Texto**:  \n",
        "     El texto de entrada se convierte a índices utilizando la tabla de búsqueda `lookup_table`.\n",
        "   - **Generación de Predicción**:  \n",
        "     El modelo realiza una predicción de los logits (probabilidades sin normalizar) para cada palabra en la secuencia. Los logits son ajustados dividiéndolos por la temperatura para controlar la \"creatividad\" o \"variabilidad\" en la generación. A continuación, se aplica la máscara para evitar la palabra \"[UNK]\".\n",
        "   - **Muestreo**:  \n",
        "     Los logits ajustados se utilizan para realizar el muestreo de la siguiente palabra mediante `tf.random.categorical()`, seleccionando el índice con mayor probabilidad (o uno aleatorio si la temperatura es alta).\n",
        "   - **Conversión de Índices a Palabras**:  \n",
        "     Los índices generados se convierten nuevamente a palabras utilizando el diccionario `idx2word`.\n",
        "\n",
        "3. **Generación de Texto con Diferentes Temperaturas**:  \n",
        "   Se generan textos utilizando tres valores diferentes de temperatura (`0.5`, `1.0`, y `1.5`).  \n",
        "   - **Temperatura Baja (0.5)**: Generará texto más predecible y coherente, ya que reduce la aleatoriedad en la selección de palabras.\n",
        "   - **Temperatura Media (1.0)**: Es el comportamiento \"neutral\", balanceando coherencia y creatividad.\n",
        "   - **Temperatura Alta (1.5)**: Introducirá mayor variabilidad y puede generar texto más inesperado y creativo, pero potencialmente incoherente.\n",
        "\n",
        "4. **Proceso de Generación**:  \n",
        "   - Se inicializa la secuencia de inicio con el texto `'To be or not to be'`.\n",
        "   - En cada iteración, se genera una palabra nueva utilizando el modelo, añadiéndola al resultado hasta alcanzar un total de 100 palabras.\n",
        "   - El texto generado se une y se imprime.\n",
        "\n",
        "---\n",
        "\n",
        "Este enfoque de generación de texto paso a paso permite crear salidas coherentes y controladas, con la posibilidad de ajustar la creatividad mediante la temperatura, lo que puede ser útil en aplicaciones de procesamiento de lenguaje natural como la generación automática de texto o la creación de contenido.\n"
      ],
      "metadata": {
        "id": "Qt2shadl74wC"
      }
    },
    {
      "cell_type": "code",
      "source": [
        "class OneStepWord(tf.keras.Model):\n",
        "    def __init__(self, model, word2idx, idx2word, temperature=1.0):\n",
        "        super().__init__()\n",
        "        self.temperature = temperature\n",
        "        self.model = model\n",
        "        self.word2idx = word2idx\n",
        "        self.idx2word = idx2word\n",
        "\n",
        "        # Crear una máscara para evitar la palabra \"[UNK]\" de ser generada.\n",
        "        skip_ids = tf.constant([self.word2idx.get('[UNK]', 0)], dtype=tf.int64)[:, None]\n",
        "        sparse_mask = tf.SparseTensor(\n",
        "            # Colocar -inf en cada índice que no sea válido.\n",
        "            values=[-float('inf')] * len(skip_ids),\n",
        "            indices=skip_ids,\n",
        "            dense_shape=[len(word2idx)])\n",
        "        self.prediction_mask = tf.sparse.to_dense(sparse_mask)\n",
        "\n",
        "        # Convertir idx2word a un tensor de strings\n",
        "        self.idx2word_tensor = tf.constant(list(self.idx2word.values()), dtype=tf.string)\n",
        "\n",
        "        # Crear un StaticHashTable para mapeo de palabra a índice\n",
        "        keys = list(self.word2idx.keys())\n",
        "        values = list(self.word2idx.values())\n",
        "        self.lookup_table = tf.lookup.StaticHashTable(\n",
        "            tf.lookup.KeyValueTensorInitializer(\n",
        "                keys=tf.constant(keys, dtype=tf.string),\n",
        "                values=tf.constant(values, dtype=tf.int64)\n",
        "            ), default_value=self.word2idx.get('[UNK]', 0)\n",
        "        )\n",
        "\n",
        "    @tf.function\n",
        "    def generate_one_step(self, inputs, states=None):\n",
        "        # Convertir las palabras a IDs de tokens utilizando el hash table\n",
        "        input_words = tf.strings.split(inputs)\n",
        "        input_ids = self.lookup_table.lookup(input_words)\n",
        "\n",
        "        # Asegurarse de que los inputs estén en la forma adecuada (batch_size, sequence_length)\n",
        "        input_ids = tf.expand_dims(input_ids, axis=0)  # Hacer que la dimensión del batch sea 1\n",
        "        input_ids = tf.reshape(input_ids, (1, -1))  # Aplanar los inputs en una secuencia\n",
        "\n",
        "        # Ejecutar el modelo.\n",
        "        predicted_logits, states = self.model(inputs=input_ids, states=states, return_state=True)\n",
        "        # Usar solo la última predicción.\n",
        "        predicted_logits = predicted_logits[:, -1, :]\n",
        "        predicted_logits = predicted_logits / self.temperature\n",
        "        # Aplicar la máscara de predicción: evitar que \"[UNK]\" sea generado.\n",
        "        predicted_logits = predicted_logits + self.prediction_mask\n",
        "\n",
        "        # Muestrear los logits de salida para generar IDs de tokens.\n",
        "        predicted_ids = tf.random.categorical(predicted_logits, num_samples=1)\n",
        "        predicted_ids = tf.squeeze(predicted_ids, axis=-1)\n",
        "\n",
        "        # Convertir de IDs de tokens a palabras utilizando idx2word\n",
        "        predicted_words = tf.gather(self.idx2word_tensor, predicted_ids)\n",
        "\n",
        "        return predicted_words, states\n",
        "\n"
      ],
      "metadata": {
        "id": "M2l8PG12qHlN"
      },
      "execution_count": null,
      "outputs": []
    },
    {
      "cell_type": "code",
      "source": [
        "# Iniciar el modelo con una temperatura específica\n",
        "temperatures = [0.5, 1.0, 1.5]\n",
        "results = []\n",
        "\n",
        "for temp in temperatures:\n",
        "    print(f\"\\n### Generando texto con temperatura: {temp} ###\\n\")\n",
        "    one_step_model = OneStepWord(word_model, word2idx, idx2word, temperature=temp)\n",
        "\n",
        "    states = None\n",
        "    next_word = tf.constant(['To be or not to be'])  # Puedes comenzar con cualquier palabra de inicio\n",
        "    result = [next_word]\n",
        "\n",
        "    for n in range(100):  # Cambia el número de palabras a generar\n",
        "        next_word, states = one_step_model.generate_one_step(next_word, states=states)\n",
        "        result.append(next_word)\n",
        "\n",
        "    result = tf.strings.join(result)\n",
        "    print(result[0].numpy().decode('utf-8'))"
      ],
      "metadata": {
        "colab": {
          "base_uri": "https://localhost:8080/"
        },
        "id": "e6FU3iLsrZ6F",
        "outputId": "b8524fe8-4c90-46e2-be44-32929da76cd9"
      },
      "execution_count": null,
      "outputs": [
        {
          "output_type": "stream",
          "name": "stdout",
          "text": [
            "\n",
            "### Generando texto con temperatura: 0.5 ###\n",
            "\n",
            "To be or not to betotototototototototototototototototototototototototototototototototototototototototototototototototototototototototototototototototototototototototototototototototototototototototototototototototototo\n",
            "\n",
            "### Generando texto con temperatura: 1.0 ###\n",
            "\n",
            "To be or not to bechildrentheeshesototototototototototototototototototototototototototototototototototototototototototototototototototototototototototototototototototototototototototototototototototototototototototototototototo\n",
            "\n",
            "### Generando texto con temperatura: 1.5 ###\n",
            "\n",
            "To be or not to bethatmysea,\n",
            "ThanhouseofHarry,conversationobey:\n",
            "ThytownquicklyitfullIherslainusehisroyaldaughter,\n",
            "Andguiltheryournumbers,father'sbosoms!Gloucester?\n",
            "Now,outusehaddarestamongstho!grassyourthee,me,\n",
            "AndasblessinghadyouyouheavybreathedasLordheaven!theeeverlittleshock\n",
            "AthousethankashenotyouyouandyouearsyouyouityousoonEDWARDbe;\n",
            "Forwillaswillwillofwillbelievewillwillwillfromwillmostare,theetheethatwillforwillwillwillwillwilldailylayyouthumb,youwillwillcupthee\n"
          ]
        }
      ]
    },
    {
      "cell_type": "markdown",
      "source": [
        "##### Conclusión sobre la generación de texto con diferentes temperaturas\n",
        "\n",
        "La generación de texto con distintos valores de **temperatura** afecta el equilibrio entre predictibilidad y creatividad en los resultados del modelo:\n",
        "\n",
        "| **Temperatura** | **Comportamiento**                                                                                     | **Aplicaciones**                                                                 |\n",
        "|------------------|-------------------------------------------------------------------------------------------------------|----------------------------------------------------------------------------------|\n",
        "| **0.5**         | Produce texto altamente repetitivo y predecible (e.g., \"tototototo\").                                  | Útil para tareas que requieren precisión, consistencia y menos aleatoriedad.    |\n",
        "| **1.0**         | Equilibra coherencia y diversidad, aunque puede presentar repeticiones y combinaciones menos comunes. | Ideal para tareas que necesitan variedad sin perder legibilidad.                |\n",
        "| **1.5**         | Genera texto muy aleatorio y creativo, pero con poca coherencia (e.g., \"Andguiltheryournumbers\").      | Adecuado para explorar ideas o contenido creativo, sacrificando la estructura.  |\n",
        "\n",
        "### Conclusión general\n",
        "- **Temperaturas bajas (0.5):** Favorecen opciones más probables, reduciendo la aleatoriedad.  \n",
        "- **Temperatura media (1.0):** Logran un buen balance entre coherencia y creatividad.  \n",
        "- **Temperaturas altas (1.5):** Introducen mayor creatividad, pero sacrifican legibilidad y estructura.\n"
      ],
      "metadata": {
        "id": "6nhdI9hwdlKD"
      }
    },
    {
      "cell_type": "markdown",
      "source": [
        "## Modelo Palabara a Palabra V2 + LSTM"
      ],
      "metadata": {
        "id": "uSodR0HWu0pX"
      }
    },
    {
      "cell_type": "markdown",
      "source": [
        "Tras observar los resultados generados por el modelo, identificamos problemas de coherencia y fluidez, especialmente al trabajar con temperaturas más altas. Esto indica que el modelo tiene dificultades para capturar relaciones contextuales a largo plazo dentro del texto.\n",
        "\n",
        "**Limitaciones del modelo actual**:\n",
        "1. **Falta de memoria a largo plazo:**  \n",
        "   El modelo no logra mantener dependencias entre palabras, lo que resulta en repeticiones excesivas o pérdida de coherencia semántica.  \n",
        "   Ejemplo: \"totototototototo\" y combinaciones aleatorias como \"willwillwillfromwillmostare\".  \n",
        "\n",
        "2. **Poca comprensión del contexto:**  \n",
        "   La estructura del texto carece de continuidad, mostrando palabras desconectadas y sin sentido lógico.  \n",
        "\n",
        "**Por qué agregar una capa LSTM:**\n",
        "Las **Long Short-Term Memory (LSTM)** son un tipo de red neuronal recurrente (RNN) diseñada para resolver problemas de memoria a largo plazo. Incorporar una capa LSTM al modelo ayuda a:\n",
        "- **Capturar dependencias contextuales:** Mantiene información relevante a lo largo de secuencias más largas, mejorando la coherencia del texto generado.  \n",
        "- **Evitar repeticiones:** La memoria interna de LSTM evita patrones repetitivos, generando contenido más variado y natural.  \n",
        "- **Mejorar la calidad semántica:** Permite que el modelo entienda mejor la estructura del texto, produciendo resultados más legibles y comprensibles.\n",
        "\n",
        "**Conclusión:**\n",
        "Agregar una capa LSTM al modelo permitirá superar las limitaciones observadas, mejorando tanto la coherencia como la creatividad del texto generado. Esto es especialmente relevante para aplicaciones que requieren textos estructurados y contextualmente consistentes."
      ],
      "metadata": {
        "id": "JMiFvfNLeQSG"
      }
    },
    {
      "cell_type": "markdown",
      "source": [
        "###### Descripción del Código\n",
        "\n",
        "Este código está diseñado para entrenar un modelo de red neuronal recurrente (RNN) con capas LSTM para la predicción de texto a partir de secuencias de palabras. A continuación se detalla el funcionamiento y los componentes clave:\n",
        "\n",
        "#### 1. **División de Entrada y Salida:**\n",
        "   - **Función `split_input_target_word(chunk)`**:  \n",
        "     Esta función toma una secuencia de palabras (un \"chunk\") y la divide en dos partes:\n",
        "     - **Entrada**: La secuencia original, excluyendo el último elemento (`chunk[:-1]`).\n",
        "     - **Salida**: La secuencia desplazada, excluyendo el primer elemento (`chunk[1:]`).\n",
        "     Esto es necesario para el entrenamiento de modelos de lenguaje, donde el modelo debe predecir la siguiente palabra (salida) dada una secuencia anterior (entrada).\n",
        "\n",
        "#### 2. **Preparación del Dataset:**\n",
        "   - **Mapeo de Datos**:  \n",
        "     Utilizando la función `split_input_target_word`, el dataset de palabras (`sequences_word`) se mapea correctamente para que cada secuencia de entrada y salida esté alineada.\n",
        "   - **Configuración de Batches**:  \n",
        "     El dataset se \"mezcla\" (`shuffle`) para evitar sesgos durante el entrenamiento y luego se divide en batches de tamaño 64 (`BATCH_SIZE`). La opción `drop_remainder=True` asegura que solo se utilicen batches completos.\n",
        "\n",
        "#### 3. **Definición del Modelo:**\n",
        "   - **Modelo Secuencial con LSTM**:  \n",
        "     El modelo está compuesto por una serie de capas que incluyen:\n",
        "     - **Capa de Embedding**: Convierte los índices de palabras en vectores de baja dimensión.\n",
        "     - **Capas LSTM**: Se utilizan dos capas LSTM para capturar dependencias temporales en las secuencias de palabras. Se ha utilizado la opción `return_sequences=True` para que cada capa LSTM devuelva una secuencia completa de salidas, lo cual es útil cuando se tiene una salida secuencial (como en la predicción de palabras).\n",
        "     - **Capa densa**: Con una activación `softmax`, esta capa genera una distribución de probabilidades sobre el vocabulario para cada paso de la secuencia.\n",
        "\n",
        "#### 4. **Compilación del Modelo:**\n",
        "   - **Función de Pérdida**: Se utiliza `sparse_categorical_crossentropy` como función de pérdida, que es adecuada cuando las etiquetas son índices de clase.\n",
        "   - **Optimizador**: Se usa el optimizador `adam`, que es popular por su eficiencia y adaptabilidad en problemas de aprendizaje profundo.\n",
        "   - **Métricas**: La métrica de `accuracy` permite monitorear la precisión del modelo durante el entrenamiento.\n",
        "\n",
        "#### 5. **Entrenamiento del Modelo:**\n",
        "   - El modelo se entrena durante 50 épocas (`epochs=50`) utilizando el dataset preparado.\n",
        "   - Durante el entrenamiento, se observa que la **pérdida** (`loss`) disminuye y la **precisión** (`accuracy`) aumenta, lo que indica que el modelo está aprendiendo a predecir las secuencias de palabras correctamente.\n",
        "\n",
        "#### 6. **Resultados del Entrenamiento:**\n",
        "   - **Evolución de la Pérdida y Precisión**:  \n",
        "     Durante las últimas épocas, el modelo muestra una mejora consistente, con la pérdida cayendo de 0.5508 a 0.4293 y la precisión aumentando del 90.15% al 92.62%, lo que sugiere una mejora en la capacidad del modelo para predecir las secuencias de palabras de forma precisa.\n",
        "\n",
        "---\n",
        "\n",
        "Este enfoque es típico en tareas de modelado de lenguaje y predicción de secuencias, como la generación de texto o la traducción automática. La arquitectura LSTM es especialmente útil para capturar dependencias a largo plazo dentro de las secuencias de texto, lo que es clave para tareas de predicción en el dominio del procesamiento del lenguaje natural (NLP).\n"
      ],
      "metadata": {
        "id": "U0HUfe2I8FGs"
      }
    },
    {
      "cell_type": "code",
      "source": [
        "# Función para dividir correctamente en entrada y salida\n",
        "def split_input_target_word(chunk):\n",
        "    input_text = chunk[:-1]  # Entrada\n",
        "    target_text = chunk[1:]  # Salida (desplazada)\n",
        "    return input_text, target_text\n",
        "\n",
        "# Cambiar cómo se mapean los datos de entrada y salida\n",
        "word_dataset = sequences_word.map(split_input_target_word)\n",
        "\n",
        "# Configurar batches\n",
        "BATCH_SIZE = 64\n",
        "BUFFER_SIZE = 10000\n",
        "\n",
        "word_dataset = word_dataset.shuffle(BUFFER_SIZE).batch(BATCH_SIZE, drop_remainder=True)\n"
      ],
      "metadata": {
        "id": "lyRFPSOtvwJ2"
      },
      "execution_count": null,
      "outputs": []
    },
    {
      "cell_type": "code",
      "source": [
        "# Definir el modelo con salida correcta\n",
        "model = tf.keras.Sequential([\n",
        "    tf.keras.layers.Embedding(vocab_size_word, embedding_dim_word, input_length=seq_length_word),\n",
        "    tf.keras.layers.LSTM(rnn_units_word, return_sequences=True),\n",
        "    tf.keras.layers.LSTM(rnn_units_word, return_sequences=True),\n",
        "    tf.keras.layers.Dense(vocab_size_word, activation='softmax')\n",
        "])\n",
        "\n",
        "# Compilar el modelo\n",
        "model.compile(loss='sparse_categorical_crossentropy', optimizer='adam', metrics=['accuracy'])\n",
        "model.summary()\n"
      ],
      "metadata": {
        "colab": {
          "base_uri": "https://localhost:8080/"
        },
        "id": "2Y4f62Pivx5R",
        "outputId": "89ea68ac-c808-4376-8beb-807c3ca7f4b6"
      },
      "execution_count": null,
      "outputs": [
        {
          "output_type": "stream",
          "name": "stdout",
          "text": [
            "Model: \"sequential_2\"\n",
            "_________________________________________________________________\n",
            " Layer (type)                Output Shape              Param #   \n",
            "=================================================================\n",
            " embedding_6 (Embedding)     (None, 20, 256)           10802176  \n",
            "                                                                 \n",
            " lstm_4 (LSTM)               (None, 20, 1024)          5246976   \n",
            "                                                                 \n",
            " lstm_5 (LSTM)               (None, 20, 1024)          8392704   \n",
            "                                                                 \n",
            " dense_6 (Dense)             (None, 20, 42196)         43250900  \n",
            "                                                                 \n",
            "=================================================================\n",
            "Total params: 67692756 (258.23 MB)\n",
            "Trainable params: 67692756 (258.23 MB)\n",
            "Non-trainable params: 0 (0.00 Byte)\n",
            "_________________________________________________________________\n"
          ]
        }
      ]
    },
    {
      "cell_type": "code",
      "source": [
        "# Entrenar el modelo\n",
        "epochs = 50\n",
        "\n",
        "history = model.fit(word_dataset, epochs=epochs)\n"
      ],
      "metadata": {
        "colab": {
          "base_uri": "https://localhost:8080/"
        },
        "id": "VSeBCcyWvznR",
        "outputId": "6ad1436d-949f-44b5-975d-303ef15620c2"
      },
      "execution_count": null,
      "outputs": [
        {
          "output_type": "stream",
          "name": "stdout",
          "text": [
            "Epoch 1/50\n",
            "126/126 [==============================] - 31s 205ms/step - loss: 9.0847 - accuracy: 0.0281\n",
            "Epoch 2/50\n",
            "126/126 [==============================] - 24s 184ms/step - loss: 8.2499 - accuracy: 0.0298\n",
            "Epoch 3/50\n",
            "126/126 [==============================] - 25s 192ms/step - loss: 8.0144 - accuracy: 0.0306\n",
            "Epoch 4/50\n",
            "126/126 [==============================] - 24s 190ms/step - loss: 7.8010 - accuracy: 0.0315\n",
            "Epoch 5/50\n",
            "126/126 [==============================] - 25s 192ms/step - loss: 7.6260 - accuracy: 0.0362\n",
            "Epoch 6/50\n",
            "126/126 [==============================] - 24s 189ms/step - loss: 7.4703 - accuracy: 0.0403\n",
            "Epoch 7/50\n",
            "126/126 [==============================] - 24s 189ms/step - loss: 7.2708 - accuracy: 0.0429\n",
            "Epoch 8/50\n",
            "126/126 [==============================] - 24s 190ms/step - loss: 7.0691 - accuracy: 0.0493\n",
            "Epoch 9/50\n",
            "126/126 [==============================] - 24s 191ms/step - loss: 6.8582 - accuracy: 0.0588\n",
            "Epoch 10/50\n",
            "126/126 [==============================] - 24s 189ms/step - loss: 6.6351 - accuracy: 0.0681\n",
            "Epoch 11/50\n",
            "126/126 [==============================] - 24s 190ms/step - loss: 6.4052 - accuracy: 0.0789\n",
            "Epoch 12/50\n",
            "126/126 [==============================] - 24s 190ms/step - loss: 6.1707 - accuracy: 0.0904\n",
            "Epoch 13/50\n",
            "126/126 [==============================] - 24s 190ms/step - loss: 5.9335 - accuracy: 0.1028\n",
            "Epoch 14/50\n",
            "126/126 [==============================] - 24s 190ms/step - loss: 5.6898 - accuracy: 0.1145\n",
            "Epoch 15/50\n",
            "126/126 [==============================] - 24s 190ms/step - loss: 5.4386 - accuracy: 0.1298\n",
            "Epoch 16/50\n",
            "126/126 [==============================] - 24s 191ms/step - loss: 5.1883 - accuracy: 0.1444\n",
            "Epoch 17/50\n",
            "126/126 [==============================] - 24s 190ms/step - loss: 4.9302 - accuracy: 0.1635\n",
            "Epoch 18/50\n",
            "126/126 [==============================] - 24s 190ms/step - loss: 4.6638 - accuracy: 0.1896\n",
            "Epoch 19/50\n",
            "126/126 [==============================] - 24s 190ms/step - loss: 4.4022 - accuracy: 0.2217\n",
            "Epoch 20/50\n",
            "126/126 [==============================] - 24s 188ms/step - loss: 4.1374 - accuracy: 0.2614\n",
            "Epoch 21/50\n",
            "126/126 [==============================] - 25s 194ms/step - loss: 3.8702 - accuracy: 0.3071\n",
            "Epoch 22/50\n",
            "126/126 [==============================] - 24s 189ms/step - loss: 3.6031 - accuracy: 0.3543\n",
            "Epoch 23/50\n",
            "126/126 [==============================] - 24s 188ms/step - loss: 3.3455 - accuracy: 0.4002\n",
            "Epoch 24/50\n",
            "126/126 [==============================] - 24s 190ms/step - loss: 3.1009 - accuracy: 0.4441\n",
            "Epoch 25/50\n",
            "126/126 [==============================] - 24s 190ms/step - loss: 2.8688 - accuracy: 0.4845\n",
            "Epoch 26/50\n",
            "126/126 [==============================] - 24s 189ms/step - loss: 2.6531 - accuracy: 0.5195\n",
            "Epoch 27/50\n",
            "126/126 [==============================] - 24s 189ms/step - loss: 2.4542 - accuracy: 0.5528\n",
            "Epoch 28/50\n",
            "126/126 [==============================] - 24s 190ms/step - loss: 2.2667 - accuracy: 0.5834\n",
            "Epoch 29/50\n",
            "126/126 [==============================] - 24s 188ms/step - loss: 2.1008 - accuracy: 0.6111\n",
            "Epoch 30/50\n",
            "126/126 [==============================] - 25s 194ms/step - loss: 1.9500 - accuracy: 0.6370\n",
            "Epoch 31/50\n",
            "126/126 [==============================] - 24s 185ms/step - loss: 1.8158 - accuracy: 0.6590\n",
            "Epoch 32/50\n",
            "126/126 [==============================] - 25s 195ms/step - loss: 1.6866 - accuracy: 0.6819\n",
            "Epoch 33/50\n",
            "126/126 [==============================] - 24s 189ms/step - loss: 1.5664 - accuracy: 0.7034\n",
            "Epoch 34/50\n",
            "126/126 [==============================] - 24s 187ms/step - loss: 1.4581 - accuracy: 0.7234\n",
            "Epoch 35/50\n",
            "126/126 [==============================] - 24s 190ms/step - loss: 1.3570 - accuracy: 0.7419\n",
            "Epoch 36/50\n",
            "126/126 [==============================] - 24s 190ms/step - loss: 1.2619 - accuracy: 0.7593\n",
            "Epoch 37/50\n",
            "126/126 [==============================] - 24s 189ms/step - loss: 1.1743 - accuracy: 0.7775\n",
            "Epoch 38/50\n",
            "126/126 [==============================] - 24s 189ms/step - loss: 1.0938 - accuracy: 0.7917\n",
            "Epoch 39/50\n",
            "126/126 [==============================] - 24s 190ms/step - loss: 1.0205 - accuracy: 0.8063\n",
            "Epoch 40/50\n",
            "126/126 [==============================] - 24s 190ms/step - loss: 0.9479 - accuracy: 0.8204\n",
            "Epoch 41/50\n",
            "126/126 [==============================] - 24s 187ms/step - loss: 0.8785 - accuracy: 0.8348\n",
            "Epoch 42/50\n",
            "126/126 [==============================] - 25s 194ms/step - loss: 0.8137 - accuracy: 0.8475\n",
            "Epoch 43/50\n",
            "126/126 [==============================] - 24s 188ms/step - loss: 0.7523 - accuracy: 0.8608\n",
            "Epoch 44/50\n",
            "126/126 [==============================] - 24s 185ms/step - loss: 0.6950 - accuracy: 0.8728\n",
            "Epoch 45/50\n",
            "126/126 [==============================] - 25s 189ms/step - loss: 0.6428 - accuracy: 0.8831\n",
            "Epoch 46/50\n",
            "126/126 [==============================] - 24s 190ms/step - loss: 0.5971 - accuracy: 0.8924\n",
            "Epoch 47/50\n",
            "126/126 [==============================] - 24s 191ms/step - loss: 0.5508 - accuracy: 0.9015\n",
            "Epoch 48/50\n",
            "126/126 [==============================] - 24s 188ms/step - loss: 0.5064 - accuracy: 0.9109\n",
            "Epoch 49/50\n",
            "126/126 [==============================] - 24s 187ms/step - loss: 0.4661 - accuracy: 0.9181\n",
            "Epoch 50/50\n",
            "126/126 [==============================] - 25s 194ms/step - loss: 0.4293 - accuracy: 0.9262\n"
          ]
        }
      ]
    },
    {
      "cell_type": "markdown",
      "source": [
        "### Generar texto"
      ],
      "metadata": {
        "id": "FQ7TKNRI8BLQ"
      }
    },
    {
      "cell_type": "markdown",
      "source": [
        "###### Descripción del Código\n",
        "\n",
        "El código proporcionado define una función para generar texto palabra por palabra utilizando un modelo de red neuronal entrenado (específicamente un modelo LSTM). Esta función toma un texto inicial (o \"semilla\") y genera un número determinado de palabras siguiendo una distribución probabilística de predicción, ajustada por la temperatura. A continuación se describen los componentes clave del código:\n",
        "\n",
        "#### 1. **Función `generate_text`**:\n",
        "   - **Parámetros**:\n",
        "     - `start_string`: Es el texto inicial con el que se comienza la generación.\n",
        "     - `num_generate`: Número de palabras a generar, por defecto es 1000.\n",
        "     - `temperature`: Parámetro que ajusta la \"creatividad\" de la generación, donde un valor de 1.0 implica una distribución normal, valores mayores a 1.0 generan más diversidad, y valores menores a 1.0 hacen que el modelo sea más determinista.\n",
        "\n",
        "   - **Proceso**:\n",
        "     - **Conversión del Texto Inicial a Índices**:  \n",
        "       El texto inicial se convierte a secuencia de índices utilizando el tokenizer previamente entrenado. Esto convierte cada palabra en un número correspondiente a su índice en el vocabulario.\n",
        "     \n",
        "     - **Padding de la Secuencia**:  \n",
        "       Se ajusta la longitud de la secuencia de entrada a la longitud definida para las secuencias (`seq_length_word`), utilizando `pad_sequences` para asegurarse de que todas las secuencias tengan el tamaño adecuado para la entrada del modelo.\n",
        "     \n",
        "     - **Generación de Texto**:  \n",
        "       A lo largo de las iteraciones (determinado por `num_generate`), se realiza la predicción palabra por palabra:\n",
        "       - El modelo realiza una predicción sobre la secuencia actual.\n",
        "       - La salida de la predicción es escalada por la temperatura, lo que afecta la aleatoriedad en la selección de la siguiente palabra.\n",
        "       - Se selecciona el índice de la palabra más probable a partir de las probabilidades generadas por el modelo (con el uso de `tf.random.categorical`).\n",
        "     \n",
        "     - **Actualización de la Entrada**:  \n",
        "       La secuencia de entrada se actualiza agregando la palabra predicha al final, desplazando las palabras anteriores (de acuerdo con el tamaño de la secuencia de entrada) para que siempre se mantenga la longitud fija.\n",
        "     \n",
        "     - **Conversión de Índices a Palabras**:  \n",
        "       El índice predicho se convierte nuevamente en una palabra utilizando el diccionario `idx2word` y se agrega a la lista de palabras generadas.\n",
        "\n",
        "   - **Unión de las Palabras Generadas**:  \n",
        "     Finalmente, las palabras generadas se concatenan con el texto inicial (`start_string`), y el texto resultante se devuelve como un string.\n",
        "\n",
        "#### 2. **Generación de Texto a partir de una Semilla**:\n",
        "   - En el ejemplo proporcionado, se utiliza la semilla `\"To be or not to be\"`, y se genera un texto de 50 palabras a partir de esa semilla con una temperatura de 1.0.\n",
        "   \n",
        "   - El resultado es un texto que comienza con la semilla proporcionada y sigue con palabras generadas de manera coherente, pero también creativa, según lo permita el modelo y el valor de la temperatura.\n",
        "\n",
        "---\n",
        "\n",
        "### Ejemplo de Salida\n",
        "\n",
        "Si se ejecuta el código con la semilla `\"To be or not to be\"`, el modelo generará un texto que podría verse como:\n",
        "\n"
      ],
      "metadata": {
        "id": "jQSHKPyo8PXr"
      }
    },
    {
      "cell_type": "code",
      "source": [
        "# Función para generar texto palabra a palabra con el modelo entrenado\n",
        "def generate_text(start_string: str, num_generate: int = 1000, temperature: float = 1.0) -> str:\n",
        "    # Convertir la secuencia inicial (start_string) a índices\n",
        "    input_eval = tokenizer.texts_to_sequences([start_string])\n",
        "    input_eval = tf.expand_dims(input_eval[0], 0)  # Convertir a tensor de 1xN\n",
        "\n",
        "    # Asegurar que la secuencia de entrada tenga la longitud correcta\n",
        "    input_eval = tf.keras.preprocessing.sequence.pad_sequences(input_eval, maxlen=seq_length_word, padding='pre')\n",
        "\n",
        "    text_generated = []\n",
        "\n",
        "    # Generar las palabras\n",
        "    for _ in range(num_generate):\n",
        "        predictions = model.predict(input_eval)  # Realizar la predicción\n",
        "        predictions = predictions[:, -1, :] / temperature  # Escalar con la temperatura\n",
        "        predicted_id = tf.random.categorical(predictions, num_samples=1)[-1, 0].numpy()  # Obtener el índice predicho\n",
        "\n",
        "        # Añadir el índice predicho a la secuencia de entrada\n",
        "        input_eval = tf.concat([input_eval[:, 1:], tf.expand_dims([predicted_id], 0)], axis=-1)\n",
        "\n",
        "        # Convertir el índice predicho a palabra y agregarla a la lista de texto generado\n",
        "        predicted_word = idx2word[predicted_id]\n",
        "        text_generated.append(predicted_word)\n",
        "\n",
        "    # Unir las palabras generadas con el texto inicial\n",
        "    return start_string + ' ' + ' '.join(text_generated)"
      ],
      "metadata": {
        "id": "xy8b46151k_3"
      },
      "execution_count": null,
      "outputs": []
    },
    {
      "cell_type": "markdown",
      "source": [
        "##### Temperatura 1"
      ],
      "metadata": {
        "id": "OxhecZ0B19hm"
      }
    },
    {
      "cell_type": "code",
      "source": [
        "seed_text = \"To be or not to be\"\n",
        "generated_text = generate_text(seed_text, num_generate=50, temperature=1.0)\n",
        "print(generated_text)"
      ],
      "metadata": {
        "colab": {
          "base_uri": "https://localhost:8080/"
        },
        "id": "ZlJaA2__17ba",
        "outputId": "7ccf0461-1da6-48fa-bd8e-d3d5aa4ce887"
      },
      "execution_count": null,
      "outputs": [
        {
          "output_type": "stream",
          "name": "stdout",
          "text": [
            "1/1 [==============================] - 0s 24ms/step\n",
            "1/1 [==============================] - 0s 23ms/step\n",
            "1/1 [==============================] - 0s 22ms/step\n",
            "1/1 [==============================] - 0s 23ms/step\n",
            "1/1 [==============================] - 0s 23ms/step\n",
            "1/1 [==============================] - 0s 22ms/step\n",
            "1/1 [==============================] - 0s 22ms/step\n",
            "1/1 [==============================] - 0s 33ms/step\n",
            "1/1 [==============================] - 0s 35ms/step\n",
            "1/1 [==============================] - 0s 30ms/step\n",
            "1/1 [==============================] - 0s 30ms/step\n",
            "1/1 [==============================] - 0s 30ms/step\n",
            "1/1 [==============================] - 0s 31ms/step\n",
            "1/1 [==============================] - 0s 30ms/step\n",
            "1/1 [==============================] - 0s 32ms/step\n",
            "1/1 [==============================] - 0s 31ms/step\n",
            "1/1 [==============================] - 0s 30ms/step\n",
            "1/1 [==============================] - 0s 29ms/step\n",
            "1/1 [==============================] - 0s 32ms/step\n",
            "1/1 [==============================] - 0s 28ms/step\n",
            "1/1 [==============================] - 0s 32ms/step\n",
            "1/1 [==============================] - 0s 30ms/step\n",
            "1/1 [==============================] - 0s 31ms/step\n",
            "1/1 [==============================] - 0s 34ms/step\n",
            "1/1 [==============================] - 0s 29ms/step\n",
            "1/1 [==============================] - 0s 30ms/step\n",
            "1/1 [==============================] - 0s 32ms/step\n",
            "1/1 [==============================] - 0s 30ms/step\n",
            "1/1 [==============================] - 0s 33ms/step\n",
            "1/1 [==============================] - 0s 41ms/step\n",
            "1/1 [==============================] - 0s 32ms/step\n",
            "1/1 [==============================] - 0s 34ms/step\n",
            "1/1 [==============================] - 0s 35ms/step\n",
            "1/1 [==============================] - 0s 36ms/step\n",
            "1/1 [==============================] - 0s 33ms/step\n",
            "1/1 [==============================] - 0s 23ms/step\n",
            "1/1 [==============================] - 0s 22ms/step\n",
            "1/1 [==============================] - 0s 22ms/step\n",
            "1/1 [==============================] - 0s 23ms/step\n",
            "1/1 [==============================] - 0s 23ms/step\n",
            "1/1 [==============================] - 0s 22ms/step\n",
            "1/1 [==============================] - 0s 26ms/step\n",
            "1/1 [==============================] - 0s 22ms/step\n",
            "1/1 [==============================] - 0s 22ms/step\n",
            "1/1 [==============================] - 0s 22ms/step\n",
            "1/1 [==============================] - 0s 23ms/step\n",
            "1/1 [==============================] - 0s 22ms/step\n",
            "1/1 [==============================] - 0s 22ms/step\n",
            "1/1 [==============================] - 0s 22ms/step\n",
            "1/1 [==============================] - 0s 22ms/step\n",
            "To be or not to be opinion!\n",
            "Alack, pent-up fourteen;\n",
            "That degree,\n",
            "Or by;\n",
            "Having which\n",
            "That yet:\n",
            "But lovely shame.\n",
            "\n",
            "CAPULET:\n",
            "Go recreant,\n",
            "To teeth, weariest mayest past.\n",
            "\n",
            "KING word:\n",
            "and heaviness\n",
            "And old.\n",
            "\n",
            "Third school'd\n",
            "In elder, guess, city,\n",
            "In blood\n",
            "That subject, see'st wrath time fiery-red give;\n",
            "And time?\n",
            "If permit\n",
            "A must\n",
            "know wind.\n",
            "These news.\n",
            "\n",
            "GRUMIO:\n",
            "First, I\n",
            "know penitent\n",
            "king, decked mocker! land:\n",
            "The hold\n",
            "In disposed\n",
            "Ere name's There's favours\n",
            "That bawd.\n",
            "\n",
            "LUCIO:\n",
            "Well, cook?\n",
            "How we\n",
            "shall three-man-song-men extremes.\n",
            "\n",
            "KING LAURENCE:\n",
            "Romeo company\n",
            "Than\n"
          ]
        }
      ]
    },
    {
      "cell_type": "markdown",
      "source": [
        "##### Temperatura 0.5"
      ],
      "metadata": {
        "id": "m39r2oVQ2CMa"
      }
    },
    {
      "cell_type": "code",
      "source": [
        "seed_text = \"To be or not to be\"\n",
        "generated_text = generate_text(seed_text, num_generate=50, temperature=0.5)\n",
        "print(generated_text)"
      ],
      "metadata": {
        "colab": {
          "base_uri": "https://localhost:8080/"
        },
        "id": "vwx3u9fZ2FZF",
        "outputId": "b3543186-1316-4968-bb64-c221a825a77f"
      },
      "execution_count": null,
      "outputs": [
        {
          "output_type": "stream",
          "name": "stdout",
          "text": [
            "1/1 [==============================] - 0s 25ms/step\n",
            "1/1 [==============================] - 0s 24ms/step\n",
            "1/1 [==============================] - 0s 23ms/step\n",
            "1/1 [==============================] - 0s 23ms/step\n",
            "1/1 [==============================] - 0s 23ms/step\n",
            "1/1 [==============================] - 0s 22ms/step\n",
            "1/1 [==============================] - 0s 23ms/step\n",
            "1/1 [==============================] - 0s 26ms/step\n",
            "1/1 [==============================] - 0s 22ms/step\n",
            "1/1 [==============================] - 0s 22ms/step\n",
            "1/1 [==============================] - 0s 23ms/step\n",
            "1/1 [==============================] - 0s 23ms/step\n",
            "1/1 [==============================] - 0s 24ms/step\n",
            "1/1 [==============================] - 0s 22ms/step\n",
            "1/1 [==============================] - 0s 23ms/step\n",
            "1/1 [==============================] - 0s 22ms/step\n",
            "1/1 [==============================] - 0s 23ms/step\n",
            "1/1 [==============================] - 0s 36ms/step\n",
            "1/1 [==============================] - 0s 24ms/step\n",
            "1/1 [==============================] - 0s 22ms/step\n",
            "1/1 [==============================] - 0s 22ms/step\n",
            "1/1 [==============================] - 0s 28ms/step\n",
            "1/1 [==============================] - 0s 23ms/step\n",
            "1/1 [==============================] - 0s 25ms/step\n",
            "1/1 [==============================] - 0s 22ms/step\n",
            "1/1 [==============================] - 0s 22ms/step\n",
            "1/1 [==============================] - 0s 24ms/step\n",
            "1/1 [==============================] - 0s 23ms/step\n",
            "1/1 [==============================] - 0s 24ms/step\n",
            "1/1 [==============================] - 0s 23ms/step\n",
            "1/1 [==============================] - 0s 23ms/step\n",
            "1/1 [==============================] - 0s 23ms/step\n",
            "1/1 [==============================] - 0s 30ms/step\n",
            "1/1 [==============================] - 0s 22ms/step\n",
            "1/1 [==============================] - 0s 23ms/step\n",
            "1/1 [==============================] - 0s 27ms/step\n",
            "1/1 [==============================] - 0s 25ms/step\n",
            "1/1 [==============================] - 0s 24ms/step\n",
            "1/1 [==============================] - 0s 24ms/step\n",
            "1/1 [==============================] - 0s 23ms/step\n",
            "1/1 [==============================] - 0s 24ms/step\n",
            "1/1 [==============================] - 0s 22ms/step\n",
            "1/1 [==============================] - 0s 22ms/step\n",
            "1/1 [==============================] - 0s 23ms/step\n",
            "1/1 [==============================] - 0s 24ms/step\n",
            "1/1 [==============================] - 0s 23ms/step\n",
            "1/1 [==============================] - 0s 24ms/step\n",
            "1/1 [==============================] - 0s 23ms/step\n",
            "1/1 [==============================] - 0s 22ms/step\n",
            "1/1 [==============================] - 0s 25ms/step\n",
            "To be or not to be whit: eternal reasonable,\n",
            "To repulse die,\n",
            "And triumph comfort! IV:\n",
            "We cull'd yourself?\n",
            "\n",
            "PETRUCHIO:\n",
            "Tedious litter part;\n",
            "Lend court\n",
            "Whiles death--\n",
            "Shall leave\n",
            "to justs good?\n",
            "\n",
            "KING pray.\n",
            "Whereto voluptuously ere't yourself storm,\n",
            "While best.\n",
            "\n",
            "MERCUTIO:\n",
            "Help great.\n",
            "\n",
            "DUKE say.\n",
            "First, raying, What! died, although Clarence,\n",
            "With pleasures; command.\n",
            "\n",
            "ARIEL:\n",
            "To conserves answer.\n",
            "\n",
            "LEONTES:\n",
            "O kiss.\n",
            "\n",
            "PETRUCHIO:\n",
            "Why, must: knew'st forth,\n",
            "Of plunge organs\n",
            "Of so-forth:' watch?\n",
            "Sirrah, tool! done,\n",
            "His days,\n",
            "I incensed, rage, becomes endure\n",
            "Your general,\n",
            "Here\n"
          ]
        }
      ]
    },
    {
      "cell_type": "markdown",
      "source": [
        "##### Temperatura 1.5"
      ],
      "metadata": {
        "id": "3YpoCU5u2IWI"
      }
    },
    {
      "cell_type": "code",
      "source": [
        "seed_text = \"To be or not to be\"\n",
        "generated_text = generate_text(seed_text, num_generate=50, temperature=1.5)\n",
        "print(generated_text)"
      ],
      "metadata": {
        "colab": {
          "base_uri": "https://localhost:8080/"
        },
        "id": "ahegPLKn2KSF",
        "outputId": "f9f9df70-291e-4d4b-9c3b-417d0ee6fcc8"
      },
      "execution_count": null,
      "outputs": [
        {
          "output_type": "stream",
          "name": "stdout",
          "text": [
            "1/1 [==============================] - 0s 31ms/step\n",
            "1/1 [==============================] - 0s 65ms/step\n",
            "1/1 [==============================] - 0s 56ms/step\n",
            "1/1 [==============================] - 0s 57ms/step\n",
            "1/1 [==============================] - 0s 63ms/step\n",
            "1/1 [==============================] - 0s 69ms/step\n",
            "1/1 [==============================] - 0s 67ms/step\n",
            "1/1 [==============================] - 0s 46ms/step\n",
            "1/1 [==============================] - 0s 72ms/step\n",
            "1/1 [==============================] - 0s 64ms/step\n",
            "1/1 [==============================] - 0s 54ms/step\n",
            "1/1 [==============================] - 0s 48ms/step\n",
            "1/1 [==============================] - 0s 35ms/step\n",
            "1/1 [==============================] - 0s 32ms/step\n",
            "1/1 [==============================] - 0s 34ms/step\n",
            "1/1 [==============================] - 0s 32ms/step\n",
            "1/1 [==============================] - 0s 30ms/step\n",
            "1/1 [==============================] - 0s 22ms/step\n",
            "1/1 [==============================] - 0s 22ms/step\n",
            "1/1 [==============================] - 0s 22ms/step\n",
            "1/1 [==============================] - 0s 23ms/step\n",
            "1/1 [==============================] - 0s 24ms/step\n",
            "1/1 [==============================] - 0s 35ms/step\n",
            "1/1 [==============================] - 0s 35ms/step\n",
            "1/1 [==============================] - 0s 30ms/step\n",
            "1/1 [==============================] - 0s 47ms/step\n",
            "1/1 [==============================] - 0s 32ms/step\n",
            "1/1 [==============================] - 0s 36ms/step\n",
            "1/1 [==============================] - 0s 31ms/step\n",
            "1/1 [==============================] - 0s 30ms/step\n",
            "1/1 [==============================] - 0s 29ms/step\n",
            "1/1 [==============================] - 0s 35ms/step\n",
            "1/1 [==============================] - 0s 68ms/step\n",
            "1/1 [==============================] - 0s 66ms/step\n",
            "1/1 [==============================] - 0s 71ms/step\n",
            "1/1 [==============================] - 0s 66ms/step\n",
            "1/1 [==============================] - 0s 71ms/step\n",
            "1/1 [==============================] - 0s 75ms/step\n",
            "1/1 [==============================] - 0s 61ms/step\n",
            "1/1 [==============================] - 0s 78ms/step\n",
            "1/1 [==============================] - 0s 67ms/step\n",
            "1/1 [==============================] - 0s 78ms/step\n",
            "1/1 [==============================] - 0s 73ms/step\n",
            "1/1 [==============================] - 0s 72ms/step\n",
            "1/1 [==============================] - 0s 26ms/step\n",
            "1/1 [==============================] - 0s 23ms/step\n",
            "1/1 [==============================] - 0s 26ms/step\n",
            "1/1 [==============================] - 0s 30ms/step\n",
            "1/1 [==============================] - 0s 22ms/step\n",
            "1/1 [==============================] - 0s 23ms/step\n",
            "To be or not to be tears?\n",
            "Evermore branches\n",
            "We Plantagenet\n",
            "Led territories,\n",
            "And escape She thwack repent trodden powers; perform'd.\n",
            "\n",
            "A old\n",
            "man will?\n",
            "\n",
            "POLIXENES:\n",
            "I madman's understand.\n",
            "Thine yourself's Senator:\n",
            "Behold alike.\n",
            "\n",
            "First all\n",
            "the slain transported wept majesty!\n",
            "\n",
            "ANTONIO:\n",
            "Long pray;\n",
            "Or Thyself 'only' temper; purgation.\n",
            "Produce crown?\n",
            "\n",
            "QUEEN here.\n",
            "\n",
            "ROMEO:\n",
            "I feast?\n",
            "Or come?\n",
            "\n",
            "Both:\n",
            "To, road.\n",
            "Upon's inforced Cominius yourself?\n",
            "\n",
            "PETRUCHIO:\n",
            "Tedious commits lived,\n",
            "Save tape, Oxfordshire play,\n",
            "Alone, death.\n",
            "\n",
            "DUKE successfully.\n",
            "My officer:\n",
            "Correction footman them.\n",
            "Well, why,\n",
            "thou recompense:\n",
            "My growth\n",
            "The either\n",
            "For\n"
          ]
        }
      ]
    },
    {
      "cell_type": "markdown",
      "source": [
        "### Conclusión sobre la generación de texto del modelo con diferentes temperaturas\n",
        "\n",
        "La evaluación del modelo tras generar texto con diversas temperaturas (0.5, 1.0 y 1.5) muestra cómo las variaciones en este parámetro afectan la calidad, coherencia y creatividad del texto generado. Aquí están los principales hallazgos:\n",
        "\n",
        "#### Temperatura: 0.5\n",
        "- **Características del texto**:  \n",
        "  El texto generado es más estructurado y conserva cierto grado de coherencia gramatical. Sin embargo, la creatividad está limitada, y el contenido parece forzado o artificial en algunos puntos.  \n",
        "  Ejemplo:  \n",
        "  - *\"Tedious litter part; Lend court Whiles death-- Shall leave to justs good?\"*\n",
        "- **Interpretación**:  \n",
        "  Este valor favorece opciones más probables, resultando en un texto más predecible pero con menor diversidad. Es adecuado para tareas donde la coherencia es primordial.\n",
        "\n",
        "#### Temperatura: 1.0\n",
        "- **Características del texto**:  \n",
        "  Ofrece un balance entre estructura y creatividad, introduciendo combinaciones interesantes pero manteniendo cierta conexión lógica. Aunque se observan momentos de incoherencia, el texto es más dinámico y menos predecible.  \n",
        "  Ejemplo:  \n",
        "  - *\"To be or not to be opinion! Alack, pent-up fourteen; That degree, Or by; Having which That yet: But lovely shame.\"*  \n",
        "- **Interpretación**:  \n",
        "  Este nivel de temperatura produce texto más natural y creativo, adecuado para aplicaciones que requieren diversidad pero sin perder sentido.\n",
        "\n",
        "#### Temperatura: 1.5\n",
        "- **Características del texto**:  \n",
        "  El contenido generado es extremadamente aleatorio, con frases desconectadas y poco sentido lógico o gramatical. Aunque el texto incluye palabras y combinaciones inesperadas, carece de fluidez y coherencia.  \n",
        "  Ejemplo:  \n",
        "  - *\"To be or not to be tears? Evermore branches We Plantagenet Led territories, And escape She thwack repent trodden powers; perform'd.\"*  \n",
        "- **Interpretación**:  \n",
        "  Este nivel de temperatura prioriza la creatividad extrema, lo que puede ser útil para generar ideas abstractas, pero no para tareas que requieran legibilidad o estructura.\n",
        "\n",
        "### Conclusión general\n",
        "El modelo responde de manera predecible a los cambios en la temperatura:\n",
        "- **Temperatura baja (0.5):** Genera texto predecible y estructurado, pero limitado en diversidad y creatividad.  \n",
        "- **Temperatura media (1.0):** Logra un equilibrio entre creatividad y coherencia, siendo ideal para la mayoría de aplicaciones.  \n",
        "- **Temperatura alta (1.5):** Produce texto caótico y creativo, pero sacrifica la coherencia y la estructura.\n"
      ],
      "metadata": {
        "id": "xwiWGIqce1Ft"
      }
    },
    {
      "cell_type": "markdown",
      "source": [
        "## Comparativa de modelos"
      ],
      "metadata": {
        "id": "niU61MvBfBKU"
      }
    },
    {
      "cell_type": "markdown",
      "source": [
        "La principal diferencia entre los modelos de generación de texto carácter a carácter y palabra a palabra radica en cómo procesan la entrada y en los resultados que producen. A continuación, se presenta una comparación en términos de estructura, ventajas y limitaciones.\n",
        "\n",
        "| **Aspecto**            | **Modelo carácter a carácter**                                                   | **Modelo palabra a palabra**                                                   |\n",
        "|-------------------------|----------------------------------------------------------------------------------|--------------------------------------------------------------------------------|\n",
        "| **Unidad de procesamiento** | Procesa texto a nivel de caracteres individuales.                              | Procesa texto a nivel de palabras completas.                                   |\n",
        "| **Coherencia**          | Genera texto con menor coherencia, ya que no comprende las relaciones semánticas entre palabras. | Genera texto con mayor coherencia y estructura al considerar palabras completas. |\n",
        "| **Creatividad**         | Más propenso a errores gramaticales, pero puede producir combinaciones inesperadas y creativas. | Menos creativo, pero más enfocado en generar texto lógico y gramaticalmente correcto. |\n",
        "| **Entrenamiento**       | Requiere vocabularios pequeños (caracteres únicos), lo que reduce la complejidad del modelo. | Requiere vocabularios más grandes y, por tanto, modelos más complejos.         |\n",
        "| **Memoria a largo plazo** | Dificultad para capturar dependencias contextuales entre palabras debido al nivel carácter. | Capaz de comprender dependencias contextuales entre palabras para mejorar la coherencia. |\n",
        "| **Aplicaciones**        | Útil para tareas donde es necesario trabajar con secuencias de caracteres (e.g., corrección ortográfica, generación de código). | Ideal para tareas relacionadas con generación de texto natural y comprensión del lenguaje. |\n",
        "| **Resultados generados**| Menos predecibles, con tendencia a generar repeticiones o combinaciones de caracteres incoherentes. | Más predecibles y coherentes, pero con menos variación creativa.               |"
      ],
      "metadata": {
        "id": "-3dAmLp3fSfH"
      }
    }
  ],
  "metadata": {
    "accelerator": "GPU",
    "colab": {
      "provenance": [],
      "collapsed_sections": [
        "W3yVNahQYHcw",
        "r6oUuElIMgVx",
        "-ubPo0_9Prjb",
        "LJL0Q0YPY6Ee"
      ],
      "toc_visible": true
    },
    "kernelspec": {
      "display_name": "Python 3",
      "name": "python3"
    },
    "language_info": {
      "codemirror_mode": {
        "name": "ipython",
        "version": 3
      },
      "file_extension": ".py",
      "mimetype": "text/x-python",
      "name": "python",
      "nbconvert_exporter": "python",
      "pygments_lexer": "ipython3",
      "version": "3.10.13"
    }
  },
  "nbformat": 4,
  "nbformat_minor": 0
}